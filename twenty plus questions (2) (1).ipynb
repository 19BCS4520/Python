{
 "cells": [
  {
   "cell_type": "code",
   "execution_count": 33,
   "metadata": {},
   "outputs": [
    {
     "name": "stdout",
     "output_type": "stream",
     "text": [
      "enter your number::  3\n",
      "they are not same!!!\n"
     ]
    }
   ],
   "source": [
    "#check for perfect number\n",
    "a=int(input(\"enter your number::  \"))\n",
    "sum=0\n",
    "if a>1:\n",
    "    for i in range(1,a):\n",
    "        if a%i==0:\n",
    "            sum+=i\n",
    "    if a==sum:\n",
    "        print(\"they are same\")\n",
    "    else:\n",
    "        print(\"they are not same!!!\")\n",
    "        "
   ]
  },
  {
   "cell_type": "code",
   "execution_count": 67,
   "metadata": {},
   "outputs": [
    {
     "name": "stdout",
     "output_type": "stream",
     "text": [
      "enter:: 522\n",
      "it's numerical\n"
     ]
    }
   ],
   "source": [
    "#check whether the given input is alphabet or numerical\n",
    "a= input(\"enter:: \")\n",
    "for i in a:\n",
    "    if i==\"1\" or i==\"2\" or i==\"3\" or i==\"4\" or i==\"5\" or i==\"6\" or i==\"7\" or i==\"8\" or i==\"9\" or i==\"0\" :\n",
    "        print(\"it's numerical\")\n",
    "        break\n",
    "    else:\n",
    "        print(\"it's alphabet\")\n",
    "        break   "
   ]
  },
  {
   "cell_type": "code",
   "execution_count": 66,
   "metadata": {},
   "outputs": [
    {
     "name": "stdout",
     "output_type": "stream",
     "text": [
      "enter your number::  500\n",
      "1\n",
      "\n",
      "6 \n",
      "\n",
      "28 \n",
      "\n",
      "496 \n",
      "\n"
     ]
    }
   ],
   "source": [
    "#printing perfect numbers till given number\n",
    "a=int(input(\"enter your number::  \"))\n",
    "sum=0\n",
    "print(\"1\\n\")\n",
    "for n in range(1,a+1):\n",
    "    for i in range(1,n):\n",
    "            if n%i==0:\n",
    "                sum+=i\n",
    "    if n==sum:\n",
    "            print(n,\"\\n\")\n",
    "            sum=0\n",
    "    else:\n",
    "        sum=0\n",
    "        \n",
    "            \n",
    "           "
   ]
  },
  {
   "cell_type": "code",
   "execution_count": 8,
   "metadata": {},
   "outputs": [
    {
     "name": "stdout",
     "output_type": "stream",
     "text": [
      "The numbers in fibonacci series are:\n",
      "0\n",
      "1 \n",
      "1\n",
      "2\n",
      "3\n",
      "5\n",
      "8\n",
      "13\n",
      "21\n",
      "34\n",
      "55\n"
     ]
    }
   ],
   "source": [
    "#printing first 10 numbers of fibonacci series\n",
    "print(\"The numbers in fibonacci series are:\")\n",
    "print(\"0\\n1 \")\n",
    "b=0\n",
    "c=1\n",
    "for i in range(1,10):\n",
    "    print(b+c)\n",
    "    d=b+c\n",
    "    b=c\n",
    "    c=d"
   ]
  },
  {
   "cell_type": "code",
   "execution_count": 6,
   "metadata": {},
   "outputs": [
    {
     "name": "stdout",
     "output_type": "stream",
     "text": [
      "Enter the number: 225\n",
      "the number is not a pallindrome\n"
     ]
    }
   ],
   "source": [
    "#given number is pallindrome or not\n",
    "a= int(input(\"Enter the number: \"))\n",
    "b=a\n",
    "rev=0\n",
    "while (a>0):\n",
    "    rev= (rev*10)+(a%10)\n",
    "    a= a//10\n",
    "if b==rev:\n",
    "    print(\"the number is a pallindrome\")\n",
    "else:\n",
    "    print(\"the number is not a pallindrome\")\n",
    "    \n"
   ]
  },
  {
   "cell_type": "code",
   "execution_count": 9,
   "metadata": {},
   "outputs": [
    {
     "name": "stdout",
     "output_type": "stream",
     "text": [
      "please enter the number: 153\n",
      "153\n",
      "this is an armstrong number.\n"
     ]
    }
   ],
   "source": [
    "#check whether the given number is armstrong or not\n",
    "a= int(input(\"please enter the number: \"))\n",
    "check=0\n",
    "b=a\n",
    "while (a>0):\n",
    "    dig= a%10\n",
    "    check+=dig*dig*dig\n",
    "    a= a//10\n",
    "if b==check:\n",
    "    print(\"this is an armstrong number.\")\n",
    "else:\n",
    "    print(\"this is not an armstrong number.\")"
   ]
  },
  {
   "cell_type": "code",
   "execution_count": 13,
   "metadata": {},
   "outputs": [
    {
     "name": "stdout",
     "output_type": "stream",
     "text": [
      "enter the number:6\n",
      "the sum is::  9\n"
     ]
    }
   ],
   "source": [
    "#sum of all odd numbers till n value\n",
    "a=int(input(\"enter the number:\"))\n",
    "sum=0\n",
    "if a%2==0:\n",
    "    n=a\n",
    "else:\n",
    "    n=a+1    \n",
    "for i in range(1,n,2):\n",
    "    sum+=i\n",
    "print(\"the sum is:: \",sum)"
   ]
  },
  {
   "cell_type": "code",
   "execution_count": 15,
   "metadata": {},
   "outputs": [
    {
     "name": "stdout",
     "output_type": "stream",
     "text": [
      "1st:: 666\n",
      "2nd:: 51\n",
      "3rd:: 444\n",
      "a is the greatest of three\n"
     ]
    }
   ],
   "source": [
    "#finding the greatest of three using if else\n",
    "a=int(input(\"1st:: \"))\n",
    "b=int(input(\"2nd:: \"))\n",
    "c=int(input(\"3rd:: \"))\n",
    "if a>b and a>c:\n",
    "    print(\"a is the greatest of three\")\n",
    "elif b>c:\n",
    "    print(\"b is the greatest of three\")\n",
    "else:\n",
    "    print(\"c is the greatest of three\")"
   ]
  },
  {
   "cell_type": "code",
   "execution_count": 19,
   "metadata": {},
   "outputs": [
    {
     "name": "stdout",
     "output_type": "stream",
     "text": [
      "enter the alphabet:k\n",
      "it's a constant\n"
     ]
    }
   ],
   "source": [
    "#check whether given alphabet is constant or vowel\n",
    "a=input(\"enter the alphabet:\")\n",
    "if a==\"a\" or a==\"e\" or a==\"i\" or a==\"o\" or a==\"u\":\n",
    "    print(\"it's a vowel\")\n",
    "else:\n",
    "    print(\"it's a constant\")"
   ]
  },
  {
   "cell_type": "code",
   "execution_count": 21,
   "metadata": {},
   "outputs": [
    {
     "name": "stdout",
     "output_type": "stream",
     "text": [
      "enter the number:: 4\n",
      "10\n"
     ]
    }
   ],
   "source": [
    "#printing the sum till a given number\n",
    "a=int(input(\"enter the number:: \"))\n",
    "sum=0\n",
    "i=0\n",
    "for i in range (1,a+1):\n",
    "    sum+=i\n",
    "print(sum)   "
   ]
  },
  {
   "cell_type": "code",
   "execution_count": 22,
   "metadata": {},
   "outputs": [
    {
     "name": "stdout",
     "output_type": "stream",
     "text": [
      "enter the number: 3\n",
      "6\n"
     ]
    }
   ],
   "source": [
    "#factorial of a given number\n",
    "fac=1\n",
    "a=int(input(\"enter the number: \"))\n",
    "for i in range(a,0,-1):\n",
    "    fac*=i\n",
    "print(fac) "
   ]
  },
  {
   "cell_type": "code",
   "execution_count": 1,
   "metadata": {},
   "outputs": [
    {
     "name": "stdout",
     "output_type": "stream",
     "text": [
      "enter the number:3\n",
      "the even sum is::  2 \n",
      " the odd sum is::  4\n"
     ]
    }
   ],
   "source": [
    "#printing the sum of even and odd numbers till given value\n",
    "a=int(input(\"enter the number:\"))\n",
    "sum_e=0\n",
    "sum_o=0   \n",
    "for i in range(0,a+1):\n",
    "    if i%2==0:\n",
    "        sum_e+=i\n",
    "    else:\n",
    "        sum_o+=i\n",
    "print(\"the even sum is:: \",sum_e,\"\\n the odd sum is:: \",sum_o)"
   ]
  },
  {
   "cell_type": "code",
   "execution_count": 2,
   "metadata": {},
   "outputs": [
    {
     "name": "stdout",
     "output_type": "stream",
     "text": [
      "Enter the number::11\n",
      "it's a prime \n"
     ]
    }
   ],
   "source": [
    "#checking for prime number\n",
    "a=int(input(\"Enter the number:: \"))\n",
    "for j in range(2,a):\n",
    "        if a%j==0:\n",
    "            print(\"it's not a prime \")\n",
    "            break\n",
    "        elif j==a-1:\n",
    "            print(\"it's a prime \")\n",
    "            break\n"
   ]
  },
  {
   "cell_type": "code",
   "execution_count": 5,
   "metadata": {},
   "outputs": [
    {
     "name": "stdout",
     "output_type": "stream",
     "text": [
      "enter the number:: 123\n",
      "6\n"
     ]
    }
   ],
   "source": [
    "#sum of digits of the entered number\n",
    "a=int(input(\"enter the number:: \"))\n",
    "sum=0\n",
    "while a>0:\n",
    "    sum+=(a%10)\n",
    "    a=a//10\n",
    "print(sum)"
   ]
  },
  {
   "cell_type": "code",
   "execution_count": 6,
   "metadata": {},
   "outputs": [
    {
     "name": "stdout",
     "output_type": "stream",
     "text": [
      "3\n",
      "5\n",
      "7\n",
      "9\n",
      "11\n",
      "13\n",
      "15\n",
      "17\n",
      "19\n",
      "21\n",
      "23\n",
      "25\n",
      "27\n",
      "29\n",
      "31\n",
      "33\n",
      "35\n",
      "37\n",
      "39\n",
      "41\n",
      "43\n",
      "45\n",
      "47\n",
      "49\n",
      "51\n",
      "53\n",
      "55\n",
      "57\n",
      "59\n",
      "61\n",
      "63\n",
      "65\n",
      "67\n",
      "69\n",
      "71\n",
      "73\n",
      "75\n",
      "77\n",
      "79\n",
      "81\n",
      "83\n",
      "85\n",
      "87\n",
      "89\n",
      "91\n",
      "93\n",
      "95\n",
      "97\n",
      "99\n"
     ]
    }
   ],
   "source": [
    "#Prime Nunbers between 1 to 100 \n",
    "for i in range (2,101):\n",
    "    for j in range(2,i):\n",
    "        if i%j==0:\n",
    "            break\n",
    "        else:\n",
    "            print(i)\n",
    "            break"
   ]
  },
  {
   "cell_type": "code",
   "execution_count": 4,
   "metadata": {},
   "outputs": [
    {
     "name": "stdout",
     "output_type": "stream",
     "text": [
      "2499\n"
     ]
    }
   ],
   "source": [
    "#sum of Prime Nunbers between 1 to 100 \n",
    "sum=0\n",
    "for i in range (2,101):\n",
    "    for j in range(2,i):\n",
    "        if i%j==0:\n",
    "            break\n",
    "        else:\n",
    "            sum+=i\n",
    "            break\n",
    "print(sum)"
   ]
  },
  {
   "cell_type": "code",
   "execution_count": 9,
   "metadata": {},
   "outputs": [
    {
     "name": "stdout",
     "output_type": "stream",
     "text": [
      "enter the number: 200\n"
     ]
    }
   ],
   "source": [
    "#printing the armstrong numbers till given number\n",
    "a= int(input(\"enter the number: \"))\n",
    "\n",
    "for i in range(1,a+1):\n",
    "    b=i\n",
    "    check=0\n",
    "    while (i>0):\n",
    "        dig= i%10\n",
    "        check+=dig*dig*dig\n",
    "        i= i//10\n",
    "    if i==check:\n",
    "        print(i)\n",
    "        check=0\n",
    "    \n",
    "        "
   ]
  },
  {
   "cell_type": "code",
   "execution_count": 3,
   "metadata": {},
   "outputs": [
    {
     "name": "stdout",
     "output_type": "stream",
     "text": [
      "enter a: 5\n",
      "enter b: 10\n",
      "a is: 10 \n",
      "b is: 5\n"
     ]
    }
   ],
   "source": [
    "#to swap the numbers without using third variable\n",
    "a=int(input(\"enter a: \"))\n",
    "b=int(input(\"enter b: \"))\n",
    "a=a+b\n",
    "b=a-b\n",
    "a=a-b\n",
    "print(\"a is:\",a,\"\\nb is:\",b)"
   ]
  },
  {
   "cell_type": "code",
   "execution_count": 3,
   "metadata": {},
   "outputs": [
    {
     "name": "stdout",
     "output_type": "stream",
     "text": [
      "number a: 2\n",
      "number b: 5\n",
      "10\n"
     ]
    }
   ],
   "source": [
    "#to find the lcm of 2 given numbers\n",
    "a=int(input(\"number a: \"))\n",
    "b=int(input(\"number b: \"))\n",
    "if a>b:\n",
    "    n=a\n",
    "else:\n",
    "    n=b\n",
    "lcm=1\n",
    "for i in range (2,n+1):\n",
    "    if a%i==0:\n",
    "            lcm*=i\n",
    "            a=a//i\n",
    "    elif b%i==0:\n",
    "        lcm*=i\n",
    "        b=b//i\n",
    "print(lcm)\n",
    "            \n",
    "            "
   ]
  },
  {
   "cell_type": "code",
   "execution_count": 2,
   "metadata": {},
   "outputs": [
    {
     "name": "stdout",
     "output_type": "stream",
     "text": [
      "number a: 8\n",
      "number b: 16\n",
      "8\n"
     ]
    }
   ],
   "source": [
    "#to find the hcf of 2 numbers\n",
    "a=int(input(\"number a: \"))\n",
    "b=int(input(\"number b: \"))\n",
    "if a>b:\n",
    "    n=a\n",
    "else:\n",
    "    n=b\n",
    "hcf=1\n",
    "i=2\n",
    "while a>1 and b>1 and i<n+1:\n",
    "    if a%i==0 and b%i==0:\n",
    "        hcf*=i\n",
    "        a=a//i\n",
    "        b=b//i\n",
    "    else:\n",
    "        i=i+1\n",
    "        \n",
    "print(hcf)\n"
   ]
  },
  {
   "cell_type": "code",
   "execution_count": null,
   "metadata": {},
   "outputs": [],
   "source": []
  }
 ],
 "metadata": {
  "kernelspec": {
   "display_name": "Python 3",
   "language": "python",
   "name": "python3"
  },
  "language_info": {
   "codemirror_mode": {
    "name": "ipython",
    "version": 3
   },
   "file_extension": ".py",
   "mimetype": "text/x-python",
   "name": "python",
   "nbconvert_exporter": "python",
   "pygments_lexer": "ipython3",
   "version": "3.7.6"
  }
 },
 "nbformat": 4,
 "nbformat_minor": 4
}
