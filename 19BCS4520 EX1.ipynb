{
 "cells": [
  {
   "cell_type": "code",
   "execution_count": 1,
   "metadata": {},
   "outputs": [
    {
     "name": "stdout",
     "output_type": "stream",
     "text": [
      "enter the temp in farenhite67\n",
      "temp in celcius 19.444444444444443 C\n"
     ]
    }
   ],
   "source": [
    "#farenheit to celcius\n",
    "f=float(input(\"enter the temp in farenhite\"))\n",
    "c=(f-32)*5/9\n",
    "print(\"temp in celcius\",c,\"C\")"
   ]
  },
  {
   "cell_type": "code",
   "execution_count": 4,
   "metadata": {},
   "outputs": [
    {
     "name": "stdout",
     "output_type": "stream",
     "text": [
      "enter the radius45\n",
      "area of the circle is:: 6358.500000000001 \n",
      " circumference of circle is:: 282.6\n"
     ]
    }
   ],
   "source": [
    "#area and circumference of the circle\n",
    "r=float(input(\"enter the radius\"))\n",
    "pi=3.14\n",
    "area=pi*r*r\n",
    "cir=2*pi*r\n",
    "print(\"area of the circle is::\",area,\"\\n circumference of circle is::\",cir)\n"
   ]
  },
  {
   "cell_type": "code",
   "execution_count": 6,
   "metadata": {},
   "outputs": [
    {
     "name": "stdout",
     "output_type": "stream",
     "text": [
      "eneter the first number4\n",
      "enter the second number4\n",
      "enter the third number5\n",
      "average of the number 4.333333333333333\n"
     ]
    }
   ],
   "source": [
    "#average of the three number\n",
    "x=int(input(\"eneter the first number\"))\n",
    "y=int(input(\"enter the second number\"))\n",
    "z=int(input(\"enter the third number\"))\n",
    "avg=(x+y+z)/3\n",
    "print(\"average of the number\",avg)"
   ]
  },
  {
   "cell_type": "code",
   "execution_count": 7,
   "metadata": {},
   "outputs": [
    {
     "name": "stdout",
     "output_type": "stream",
     "text": [
      "enter the prinicple amount4\n",
      "enter the rate5\n",
      "enter the time6\n",
      "simple interst 1.2\n",
      "maturity amount 5.2\n"
     ]
    }
   ],
   "source": [
    "#simple interst and maturity amount\n",
    "p=int(input(\"enter the prinicple amount\"))\n",
    "r=int(input(\"enter the rate\"))\n",
    "t=int(input(\"enter the time\"))\n",
    "si=(p*r*t)/100\n",
    "print(\"simple interst\",si)\n",
    "m=si+p\n",
    "print(\"maturity amount\",m)"
   ]
  },
  {
   "cell_type": "code",
   "execution_count": 9,
   "metadata": {},
   "outputs": [
    {
     "name": "stdout",
     "output_type": "stream",
     "text": [
      "eneter the 1st value 7\n",
      "enter the 2nd value4\n",
      "enter the 3rd value8\n",
      "area of the tringle 13.997767679169419\n"
     ]
    }
   ],
   "source": [
    "#area of the triangle\n",
    "a=float(input(\"eneter the 1st value \"))\n",
    "b=float(input(\"enter the 2nd value\"))\n",
    "c=float(input(\"enter the 3rd value\"))\n",
    "s=((a+b+c)/2)\n",
    "area=((s*(s-a)*(s-b)*(s-c))**0.5)\n",
    "print(\"area of the tringle\",area)"
   ]
  },
  {
   "cell_type": "code",
   "execution_count": 1,
   "metadata": {},
   "outputs": [
    {
     "name": "stdout",
     "output_type": "stream",
     "text": [
      "enter number in km/h47\n",
      "velocity is:: 13.066\n"
     ]
    }
   ],
   "source": [
    "#km/h to m/s\n",
    "x=float(input(\"enter number in km/h\"))\n",
    "y=x*0.278\n",
    "print(\"velocity is::\",y)"
   ]
  },
  {
   "cell_type": "code",
   "execution_count": 2,
   "metadata": {},
   "outputs": [
    {
     "name": "stdout",
     "output_type": "stream",
     "text": [
      "enter the intail velocity6\n",
      "enter the acceleration68\n",
      "enter the time45\n",
      "final velocity 3066.0\n"
     ]
    }
   ],
   "source": [
    "#velocity\n",
    "u=float(input(\"enter the intail velocity\"))\n",
    "a=float(input(\"enter the acceleration\"))\n",
    "t=float(input(\"enter the time\"))\n",
    "v=u+(a*t)\n",
    "print(\"final velocity\",v)"
   ]
  },
  {
   "cell_type": "code",
   "execution_count": 3,
   "metadata": {},
   "outputs": [
    {
     "name": "stdout",
     "output_type": "stream",
     "text": [
      "enter the age19\n",
      "you are 599184000 seconds old.\n"
     ]
    }
   ],
   "source": [
    "#seconds in year\n",
    "age=int(input(\"enter the age\"))\n",
    "seconds=age*31536000\n",
    "print(\"you are\",seconds,\"seconds old.\")"
   ]
  },
  {
   "cell_type": "code",
   "execution_count": 2,
   "metadata": {},
   "outputs": [
    {
     "name": "stdout",
     "output_type": "stream",
     "text": [
      "Enter a number: 8\n",
      "even\n"
     ]
    }
   ],
   "source": [
    "#odd even program\n",
    "num = int(input(\"Enter a number: \"))\n",
    "if (num % 2) == 0:\n",
    "   print(\"even\")\n",
    "else:\n",
    "   print(\"odd\")"
   ]
  },
  {
   "cell_type": "code",
   "execution_count": null,
   "metadata": {},
   "outputs": [],
   "source": [
    "#wap to accept n number from the  the user and disply the total sum of the all number\n",
    "number = int(input(\"enter the value you want to enter \"))\n",
    "sum = 0\n",
    "for i in range(1, number+1):\n",
    "    \n",
    "    sum = sum + int(input(\"enter the value\"))\n",
    "\n",
    "print(sum)"
   ]
  },
  {
   "cell_type": "code",
   "execution_count": null,
   "metadata": {},
   "outputs": [],
   "source": [
    "#wap to calculate fabinacci series upto n\n",
    "n = int(input(\"enetre thevalue of n\"))\n",
    "a = 0\n",
    "b = 1\n",
    "c= 0\n",
    "count = 1\n",
    "print(\"Fibonacci \", end = \" \")\n",
    "while(count <= n):\n",
    "  print(c, end = \" \")\n",
    "  count = count+1\n",
    "  a = b\n",
    "  b = c\n",
    "  c = a + b"
   ]
  },
  {
   "cell_type": "code",
   "execution_count": null,
   "metadata": {},
   "outputs": [],
   "source": [
    "#PASS- DO NOTHING,IT IS A FILLER\n",
    "x=9\n",
    "if x==10:\n",
    "    pass\n",
    "else:\n",
    "    print(\"x is not ten\")"
   ]
  },
  {
   "cell_type": "code",
   "execution_count": null,
   "metadata": {},
   "outputs": [],
   "source": [
    "#wap to find given number is palindrome\n",
    "n=int(input(\"enter number:\"))\n",
    "temp=n\n",
    "rev=0\n",
    "while(n>0):\n",
    "    d=n%10\n",
    "    rev=rev*10+d\n",
    "    n=n//10\n",
    "if(temp==rev):\n",
    "    print(\"number is a palindrome\")\n",
    "else:\n",
    "    print(\"not a palindrome!\")"
   ]
  },
  {
   "cell_type": "code",
   "execution_count": 3,
   "metadata": {},
   "outputs": [
    {
     "name": "stdout",
     "output_type": "stream",
     "text": [
      " please Enter any Number: 6\n",
      "perfect Number 6\n"
     ]
    }
   ],
   "source": [
    "#perfect number\n",
    "n = int(input(\" please Enter any Number: \"))\n",
    "Sum = 0\n",
    "for i in range(1,n):\n",
    "    if(n % i == 0):\n",
    "        Sum = Sum + i\n",
    "if (Sum == n):\n",
    "    print(\"perfect Number\" ,n)\n",
    "else:\n",
    "    print(\"perfect Number\" ,n)"
   ]
  },
  {
   "cell_type": "code",
   "execution_count": 1,
   "metadata": {},
   "outputs": [
    {
     "name": "stdout",
     "output_type": "stream",
     "text": [
      "Hell 'foo' and foo\n"
     ]
    }
   ],
   "source": [
    "#find output \n",
    "print(\"Hell {0!r} and {0!s}\".format('foo','bin'))"
   ]
  },
  {
   "cell_type": "code",
   "execution_count": null,
   "metadata": {},
   "outputs": [],
   "source": []
  },
  {
   "cell_type": "code",
   "execution_count": 5,
   "metadata": {},
   "outputs": [
    {
     "name": "stdout",
     "output_type": "stream",
     "text": [
      "Enter lower range1\n",
      "Enter upper range100\n",
      "1\n",
      "2\n",
      "3\n",
      "5\n",
      "7\n",
      "11\n",
      "13\n",
      "17\n",
      "19\n",
      "23\n",
      "29\n",
      "31\n",
      "37\n",
      "41\n",
      "43\n",
      "47\n",
      "53\n",
      "59\n",
      "61\n",
      "67\n",
      "71\n",
      "73\n",
      "79\n",
      "83\n",
      "89\n",
      "97\n"
     ]
    }
   ],
   "source": [
    "#print prime number1-100\n",
    "l = int(input(\"Enter lower range\"))  \n",
    "u = int(input(\"Enter upper range\"))  \n",
    "  \n",
    "for n in range(l,u+ 1):  \n",
    "   if n> 1:  \n",
    "       for i in range(2,n):  \n",
    "           if (n% i) == 0:  \n",
    "               break  \n",
    "       else:  \n",
    "           print(n)"
   ]
  },
  {
   "cell_type": "code",
   "execution_count": 8,
   "metadata": {},
   "outputs": [
    {
     "name": "stdout",
     "output_type": "stream",
     "text": [
      "2\n",
      "3\n",
      "5\n",
      "7\n",
      "11\n",
      "13\n",
      "17\n",
      "19\n",
      "23\n",
      "29\n",
      "31\n",
      "37\n",
      "41\n",
      "43\n",
      "47\n",
      "53\n",
      "59\n",
      "61\n",
      "67\n",
      "71\n",
      "73\n",
      "79\n",
      "83\n",
      "89\n",
      "97\n"
     ]
    }
   ],
   "source": [
    "#prime number 1-100\n",
    "for n in range(1,100):  \n",
    "   if n> 1:  \n",
    "       for i in range(2,n):  \n",
    "           if (n% i) == 0:  \n",
    "               break  \n",
    "       else:  \n",
    "           print(n)"
   ]
  },
  {
   "cell_type": "code",
   "execution_count": 19,
   "metadata": {},
   "outputs": [
    {
     "name": "stdout",
     "output_type": "stream",
     "text": [
      "length of the string 1\n",
      "length of the string 2\n",
      "length of the string 3\n",
      "length of the string 4\n",
      "length of the string 5\n",
      "length of the string 6\n",
      "length of the string 7\n",
      "length of the string 8\n",
      "length of the string 9\n",
      "length of the string 10\n",
      "length of the string 11\n",
      "length of the string 12\n"
     ]
    }
   ],
   "source": [
    "#count length of string without using length function\n",
    "str=\"refrigerator\"\n",
    "count=0\n",
    "for i in str:\n",
    "    count=count+1\n",
    "    print(\"length of the string\",count)"
   ]
  },
  {
   "cell_type": "code",
   "execution_count": null,
   "metadata": {},
   "outputs": [],
   "source": [
    "#wap to find number is perfect or not\n"
   ]
  },
  {
   "cell_type": "code",
   "execution_count": null,
   "metadata": {},
   "outputs": [],
   "source": [
    "#print n perfect number"
   ]
  },
  {
   "cell_type": "code",
   "execution_count": null,
   "metadata": {},
   "outputs": [],
   "source": [
    "#print given number is armstrong or not"
   ]
  },
  {
   "cell_type": "code",
   "execution_count": null,
   "metadata": {},
   "outputs": [],
   "source": [
    "#wap to calculate fabinacci series upto n\n",
    "n = int(input(\"enetre thevalue of n\"))\n",
    "a = 0\n",
    "b = 1\n",
    "c= 0\n",
    "count = 1\n",
    "print(\"Fibonacci \", end = \" \")\n",
    "while(count <= n):\n",
    "  print(c, end = \" \")\n",
    "  count = count+1\n",
    "  a = b\n",
    "  b = c\n",
    "  c = a + b"
   ]
  },
  {
   "cell_type": "code",
   "execution_count": null,
   "metadata": {},
   "outputs": [],
   "source": [
    "#continue-jump to the next iteration skipping all statements after continue\n",
    "x=10\n",
    "while x>0:\n",
    "    print(x)\n",
    "    x=x-1\n",
    "    if x==5:\n",
    "        continue\n",
    "        print(\"next\")"
   ]
  },
  {
   "cell_type": "code",
   "execution_count": 1,
   "metadata": {},
   "outputs": [
    {
     "name": "stdout",
     "output_type": "stream",
     "text": [
      "enter your number::  6\n",
      "they are same\n"
     ]
    }
   ],
   "source": [
    "#check for perfect number\n",
    "a=int(input(\"enter your number::  \"))\n",
    "sum=0\n",
    "if a>1:\n",
    "    for i in range(1,a):\n",
    "        if a%i==0:\n",
    "            sum+=i\n",
    "    if a==sum:\n",
    "        print(\"they are same\")\n",
    "    else:\n",
    "        print(\"they are not same!!!\")\n",
    "        "
   ]
  },
  {
   "cell_type": "code",
   "execution_count": 2,
   "metadata": {},
   "outputs": [
    {
     "name": "stdout",
     "output_type": "stream",
     "text": [
      "enter:: a\n",
      "it's alphabet\n"
     ]
    }
   ],
   "source": [
    "#check whether the given input is alphabet or numerical\n",
    "a= input(\"enter:: \")\n",
    "for i in a:\n",
    "    if i==\"1\" or i==\"2\" or i==\"3\" or i==\"4\" or i==\"5\" or i==\"6\" or i==\"7\" or i==\"8\" or i==\"9\" or i==\"0\" :\n",
    "        print(\"it's numerical\")\n",
    "        break\n",
    "    else:\n",
    "        print(\"it's alphabet\")\n",
    "        break   "
   ]
  },
  {
   "cell_type": "code",
   "execution_count": 3,
   "metadata": {},
   "outputs": [
    {
     "name": "stdout",
     "output_type": "stream",
     "text": [
      "15\n",
      "19\n"
     ]
    }
   ],
   "source": [
    "#wap to swap number without using third varible\n",
    "a=19\n",
    "b=15\n",
    "a=a+b\n",
    "b=a-b\n",
    "a=a-b\n",
    "print(a)\n",
    "print(b)\n"
   ]
  },
  {
   "cell_type": "code",
   "execution_count": 4,
   "metadata": {},
   "outputs": [
    {
     "name": "stdout",
     "output_type": "stream",
     "text": [
      "enter your number::  500\n",
      "1\n",
      "\n",
      "6 \n",
      "\n",
      "28 \n",
      "\n",
      "496 \n",
      "\n"
     ]
    }
   ],
   "source": [
    "#printing perfect numbers till given number\n",
    "a=int(input(\"enter your number::  \"))\n",
    "sum=0\n",
    "print(\"1\\n\")\n",
    "for n in range(1,a+1):\n",
    "    for i in range(1,n):\n",
    "            if n%i==0:\n",
    "                sum+=i\n",
    "    if n==sum:\n",
    "            print(n,\"\\n\")\n",
    "            sum=0\n",
    "    else:\n",
    "        sum=0\n",
    "        \n",
    "            \n",
    "           "
   ]
  },
  {
   "cell_type": "code",
   "execution_count": 5,
   "metadata": {},
   "outputs": [
    {
     "name": "stdout",
     "output_type": "stream",
     "text": [
      "please enter the number: 745\n",
      "this is not an armstrong number.\n"
     ]
    }
   ],
   "source": [
    "#check whether the given number is armstrong or not\n",
    "a= int(input(\"please enter the number: \"))\n",
    "check=0\n",
    "b=a\n",
    "while (a>0):\n",
    "    dig= a%10\n",
    "    check+=dig*dig*dig\n",
    "    a= a//10\n",
    "if b==check:\n",
    "    print(\"this is an armstrong number.\")\n",
    "else:\n",
    "    print(\"this is not an armstrong number.\")"
   ]
  },
  {
   "cell_type": "code",
   "execution_count": 6,
   "metadata": {},
   "outputs": [
    {
     "name": "stdout",
     "output_type": "stream",
     "text": [
      "enter the number:9\n",
      "the sum is::  25\n"
     ]
    }
   ],
   "source": [
    "#sum of all odd numbers till n value\n",
    "a=int(input(\"enter the number:\"))\n",
    "sum=0\n",
    "if a%2==0:\n",
    "    n=a\n",
    "else:\n",
    "    n=a+1    \n",
    "for i in range(1,n,2):\n",
    "    sum+=i\n",
    "print(\"the sum is:: \",sum)"
   ]
  },
  {
   "cell_type": "code",
   "execution_count": 7,
   "metadata": {},
   "outputs": [
    {
     "name": "stdout",
     "output_type": "stream",
     "text": [
      "1st:: 34\n",
      "2nd:: 56\n",
      "3rd:: 4\n",
      "b is the greatest of three\n"
     ]
    }
   ],
   "source": [
    "#finding the greatest of three using if else\n",
    "a=int(input(\"1st:: \"))\n",
    "b=int(input(\"2nd:: \"))\n",
    "c=int(input(\"3rd:: \"))\n",
    "if a>b and a>c:\n",
    "    print(\"a is the greatest of three\")\n",
    "elif b>c:\n",
    "    print(\"b is the greatest of three\")\n",
    "else:\n",
    "    print(\"c is the greatest of three\")"
   ]
  },
  {
   "cell_type": "code",
   "execution_count": 8,
   "metadata": {},
   "outputs": [
    {
     "name": "stdout",
     "output_type": "stream",
     "text": [
      "enter the number:: 564\n",
      "159330\n"
     ]
    }
   ],
   "source": [
    "#printing the sum till a given number\n",
    "a=int(input(\"enter the number:: \"))\n",
    "sum=0\n",
    "i=0\n",
    "for i in range (1,a+1):\n",
    "    sum+=i\n",
    "print(sum)   "
   ]
  },
  {
   "cell_type": "code",
   "execution_count": 10,
   "metadata": {},
   "outputs": [
    {
     "name": "stdout",
     "output_type": "stream",
     "text": [
      "enter the number: 3\n",
      "6\n"
     ]
    }
   ],
   "source": [
    "#factorial of a given number\n",
    "fac=1\n",
    "a=int(input(\"enter the number: \"))\n",
    "for i in range(a,0,-1):\n",
    "    fac*=i\n",
    "print(fac) "
   ]
  },
  {
   "cell_type": "code",
   "execution_count": 11,
   "metadata": {},
   "outputs": [
    {
     "name": "stdout",
     "output_type": "stream",
     "text": [
      "enter the number:4\n",
      "the even sum is::  6 \n",
      " the odd sum is::  4\n"
     ]
    }
   ],
   "source": [
    "#printing the sum of even and odd numbers till given value\n",
    "a=int(input(\"enter the number:\"))\n",
    "sum_e=0\n",
    "sum_o=0   \n",
    "for i in range(0,a+1):\n",
    "    if i%2==0:\n",
    "        sum_e+=i\n",
    "    else:\n",
    "        sum_o+=i\n",
    "print(\"the even sum is:: \",sum_e,\"\\n the odd sum is:: \",sum_o)"
   ]
  },
  {
   "cell_type": "code",
   "execution_count": 12,
   "metadata": {},
   "outputs": [
    {
     "name": "stdout",
     "output_type": "stream",
     "text": [
      "number a: 18\n",
      "number b: 3\n",
      "3\n"
     ]
    }
   ],
   "source": [
    "#to find the hcf of 2 numbers\n",
    "a=int(input(\"number a: \"))\n",
    "b=int(input(\"number b: \"))\n",
    "if a>b:\n",
    "    n=a\n",
    "else:\n",
    "    n=b\n",
    "hcf=1\n",
    "i=2\n",
    "while a>1 and b>1 and i<n+1:\n",
    "    if a%i==0 and b%i==0:\n",
    "        hcf*=i\n",
    "        a=a//i\n",
    "        b=b//i\n",
    "    else:\n",
    "        i=i+1\n",
    "        \n",
    "print(hcf)\n"
   ]
  },
  {
   "cell_type": "code",
   "execution_count": null,
   "metadata": {},
   "outputs": [],
   "source": []
  }
 ],
 "metadata": {
  "kernelspec": {
   "display_name": "Python 3",
   "language": "python",
   "name": "python3"
  },
  "language_info": {
   "codemirror_mode": {
    "name": "ipython",
    "version": 3
   },
   "file_extension": ".py",
   "mimetype": "text/x-python",
   "name": "python",
   "nbconvert_exporter": "python",
   "pygments_lexer": "ipython3",
   "version": "3.7.6"
  }
 },
 "nbformat": 4,
 "nbformat_minor": 4
}
