{
 "cells": [
  {
   "cell_type": "code",
   "execution_count": 2,
   "metadata": {},
   "outputs": [],
   "source": [
    "f= open (\"D://pari.txt\",\"w\")\n",
    "f.write(\"sid is a good boy.\")\n",
    "f.close()"
   ]
  },
  {
   "cell_type": "code",
   "execution_count": null,
   "metadata": {},
   "outputs": [],
   "source": []
  },
  {
   "cell_type": "code",
   "execution_count": 3,
   "metadata": {},
   "outputs": [
    {
     "name": "stdout",
     "output_type": "stream",
     "text": [
      "sid is a good boy.\n",
      "sid is a verryyy good boy.\n"
     ]
    }
   ],
   "source": [
    "f= open(\"D://pari.txt\",\"r\")\n",
    "print(f.read())\n",
    "f= open(\"D://pari.txt\",\"w\")\n",
    "f.write(\"sid is a verryyy good boy.\")\n",
    "f.close()\n",
    "f= open(\"D://pari.txt\",\"r\")\n",
    "print(f.read())"
   ]
  },
  {
   "cell_type": "code",
   "execution_count": 6,
   "metadata": {},
   "outputs": [
    {
     "name": "stdout",
     "output_type": "stream",
     "text": [
      "sid is a verryyy good boy.sid is a verryyy verryyyyy good boy./n sid is a verryyy verryyyyy verrrryyyyyyyyyy good boy.\n",
      "sid is a verryyy good boy.sid is a verryyy verryyyyy good boy./n sid is a verryyy verryyyyy verrrryyyyyyyyyy good boy.\n",
      " sid is a verryyy verryyyyy verrrryyyyyyyyyy good boy.\n"
     ]
    }
   ],
   "source": [
    "f= open(\"D://pari.txt\",\"r\")\n",
    "print(f.read())\n",
    "f= open(\"D://pari.txt\",\"a\")\n",
    "f.write(\"\\n sid is a verryyy verryyyyy verrrryyyyyyyyyy good boy.\")\n",
    "f.close()\n",
    "f= open(\"D://pari.txt\",\"r\")\n",
    "print(f.read())"
   ]
  },
  {
   "cell_type": "code",
   "execution_count": 7,
   "metadata": {},
   "outputs": [],
   "source": [
    "f= open (\"D://parik.txt\",\"w\")\n",
    "f.write(\"pari majak chal raha hai kya\")\n",
    "f.close()"
   ]
  },
  {
   "cell_type": "code",
   "execution_count": 8,
   "metadata": {},
   "outputs": [],
   "source": [
    "import os\n",
    "os.remove(\"D://parik.txt\")"
   ]
  },
  {
   "cell_type": "code",
   "execution_count": 10,
   "metadata": {},
   "outputs": [],
   "source": [
    "f= open (\"D://sid1.txt\",\"w\")\n",
    "f.write(\"sid is a good boy.\")\n",
    "f.close()"
   ]
  },
  {
   "cell_type": "code",
   "execution_count": 11,
   "metadata": {},
   "outputs": [
    {
     "name": "stdout",
     "output_type": "stream",
     "text": [
      "sid is a good boy.\n"
     ]
    }
   ],
   "source": [
    "f= open(\"D://sid1.txt\",\"r\")\n",
    "print(f.read())"
   ]
  },
  {
   "cell_type": "code",
   "execution_count": 15,
   "metadata": {},
   "outputs": [],
   "source": [
    "#overrite\n",
    "f= open (\"D://sid1.txt\",\"w\")\n",
    "f.write(\"sid is a bad boy.\")\n",
    "#print(f.read())\n",
    "f.close()"
   ]
  },
  {
   "cell_type": "code",
   "execution_count": 24,
   "metadata": {},
   "outputs": [
    {
     "name": "stdout",
     "output_type": "stream",
     "text": [
      "sid is a bad boy.\n",
      " sid is a bad-good-bad boy.\n",
      " sid is a bad-good-bad boy.\n",
      " sid is a bad-good-bad boy.\n"
     ]
    }
   ],
   "source": [
    "f= open(\"D://sid1.txt\",\"r\")\n",
    "print(f.read())"
   ]
  },
  {
   "cell_type": "code",
   "execution_count": 23,
   "metadata": {},
   "outputs": [],
   "source": [
    "#append\n",
    "f= open (\"D://sid1.txt\",\"a\")\n",
    "f.write(\"\\n sid is a bad-good-bad boy.\")\n",
    "f.close()"
   ]
  },
  {
   "cell_type": "code",
   "execution_count": 28,
   "metadata": {},
   "outputs": [],
   "source": [
    "f= open (\"D://sid1.txt\",\"w\")\n",
    "l=[100,80,70,50,60]\n",
    "f.close()"
   ]
  },
  {
   "cell_type": "code",
   "execution_count": 29,
   "metadata": {},
   "outputs": [
    {
     "name": "stdout",
     "output_type": "stream",
     "text": [
      "\n"
     ]
    }
   ],
   "source": [
    "f= open(\"D://sid1.txt\",\"r\")\n",
    "print(f.read())"
   ]
  },
  {
   "cell_type": "markdown",
   "metadata": {},
   "source": [
    "#lambda function= function without name"
   ]
  },
  {
   "cell_type": "code",
   "execution_count": 5,
   "metadata": {},
   "outputs": [
    {
     "name": "stdout",
     "output_type": "stream",
     "text": [
      "25\n"
     ]
    }
   ],
   "source": [
    " def square(a):\n",
    "        return a*a\n",
    "r=square(5)\n",
    " print(r)\n",
    "        "
   ]
  },
  {
   "cell_type": "code",
   "execution_count": 7,
   "metadata": {},
   "outputs": [
    {
     "name": "stdout",
     "output_type": "stream",
     "text": [
      "25\n"
     ]
    }
   ],
   "source": [
    "#lambda\n",
    "f=lambda a: a*a\n",
    "r=f(5)\n",
    "print(r)"
   ]
  },
  {
   "cell_type": "raw",
   "metadata": {},
   "source": [
    "#numpy"
   ]
  },
  {
   "cell_type": "code",
   "execution_count": 30,
   "metadata": {},
   "outputs": [
    {
     "name": "stdout",
     "output_type": "stream",
     "text": [
      "[1 2 3 4 5]\n"
     ]
    }
   ],
   "source": [
    "import numpy as np\n",
    "arr = np.array([1, 2, 3, 4, 5])\n",
    "print(arr)"
   ]
  },
  {
   "cell_type": "code",
   "execution_count": 31,
   "metadata": {},
   "outputs": [
    {
     "name": "stdout",
     "output_type": "stream",
     "text": [
      "1.18.1\n"
     ]
    }
   ],
   "source": [
    "import numpy as np\n",
    "print(np.__version__)"
   ]
  },
  {
   "cell_type": "code",
   "execution_count": 32,
   "metadata": {},
   "outputs": [
    {
     "name": "stdout",
     "output_type": "stream",
     "text": [
      "[1 2 3 4 5]\n",
      "<class 'numpy.ndarray'>\n"
     ]
    }
   ],
   "source": [
    "import numpy as np\n",
    "arr = np.array([1, 2, 3, 4, 5])\n",
    "print(arr)\n",
    "print(type(arr))"
   ]
  },
  {
   "cell_type": "code",
   "execution_count": 34,
   "metadata": {},
   "outputs": [
    {
     "name": "stdout",
     "output_type": "stream",
     "text": [
      "42\n"
     ]
    }
   ],
   "source": [
    "import numpy as np\n",
    "arr = np.array(42)\n",
    "print(arr)"
   ]
  },
  {
   "cell_type": "code",
   "execution_count": 35,
   "metadata": {},
   "outputs": [
    {
     "name": "stdout",
     "output_type": "stream",
     "text": [
      "[[1 2 3]\n",
      " [4 5 6]]\n"
     ]
    }
   ],
   "source": [
    "import numpy as np\n",
    "arr = np.array([[1, 2, 3], [4, 5, 6]])\n",
    "print(arr)"
   ]
  },
  {
   "cell_type": "code",
   "execution_count": 36,
   "metadata": {},
   "outputs": [
    {
     "name": "stdout",
     "output_type": "stream",
     "text": [
      "[[[1 2 3]\n",
      "  [4 5 6]]\n",
      "\n",
      " [[1 2 3]\n",
      "  [4 5 6]]]\n"
     ]
    }
   ],
   "source": [
    "import numpy as np\n",
    "arr = np.array([[[1, 2, 3], [4, 5, 6]], [[1, 2, 3], [4, 5, 6]]])\n",
    "print(arr)"
   ]
  },
  {
   "cell_type": "code",
   "execution_count": 37,
   "metadata": {},
   "outputs": [
    {
     "name": "stdout",
     "output_type": "stream",
     "text": [
      "0\n",
      "1\n",
      "2\n",
      "3\n"
     ]
    }
   ],
   "source": [
    "import numpy as np\n",
    "\n",
    "a = np.array(42)\n",
    "b = np.array([1, 2, 3, 4, 5])\n",
    "c = np.array([[1, 2, 3], [4, 5, 6]])\n",
    "d = np.array([[[1, 2, 3], [4, 5, 6]], [[1, 2, 3], [4, 5, 6]]])\n",
    "\n",
    "print(a.ndim)\n",
    "print(b.ndim)\n",
    "print(c.ndim)\n",
    "print(d.ndim)\n"
   ]
  },
  {
   "cell_type": "code",
   "execution_count": 38,
   "metadata": {},
   "outputs": [
    {
     "name": "stdout",
     "output_type": "stream",
     "text": [
      "1\n"
     ]
    }
   ],
   "source": [
    "import numpy as np\n",
    "arr = np.array([1, 2, 3, 4])\n",
    "print(arr[0])"
   ]
  },
  {
   "cell_type": "code",
   "execution_count": 39,
   "metadata": {},
   "outputs": [
    {
     "name": "stdout",
     "output_type": "stream",
     "text": [
      "7\n"
     ]
    }
   ],
   "source": [
    "print(arr[2] + arr[3])"
   ]
  },
  {
   "cell_type": "code",
   "execution_count": 40,
   "metadata": {},
   "outputs": [
    {
     "name": "stdout",
     "output_type": "stream",
     "text": [
      "2nd element on 1st dim:  2\n"
     ]
    }
   ],
   "source": [
    "import numpy as np\n",
    "arr = np.array([[1,2,3,4,5], [6,7,8,9,10]])\n",
    "\n",
    "print('2nd element on 1st dim: ', arr[0, 1])"
   ]
  },
  {
   "cell_type": "code",
   "execution_count": 41,
   "metadata": {},
   "outputs": [
    {
     "name": "stdout",
     "output_type": "stream",
     "text": [
      "[2 3 4 5]\n"
     ]
    }
   ],
   "source": [
    "import numpy as np\n",
    "arr = np.array([1, 2, 3, 4, 5, 6, 7])\n",
    "print(arr[1:5])"
   ]
  },
  {
   "cell_type": "code",
   "execution_count": 42,
   "metadata": {},
   "outputs": [
    {
     "name": "stdout",
     "output_type": "stream",
     "text": [
      "[5 6 7]\n"
     ]
    }
   ],
   "source": [
    "print(arr[4:])"
   ]
  },
  {
   "cell_type": "code",
   "execution_count": 43,
   "metadata": {},
   "outputs": [
    {
     "name": "stdout",
     "output_type": "stream",
     "text": [
      "[1 2 3 4]\n"
     ]
    }
   ],
   "source": [
    "import numpy as np\n",
    "arr = np.array([1, 2, 3, 4, 5, 6, 7])\n",
    "print(arr[:4])"
   ]
  },
  {
   "cell_type": "code",
   "execution_count": 44,
   "metadata": {},
   "outputs": [
    {
     "name": "stdout",
     "output_type": "stream",
     "text": [
      "[5 6]\n"
     ]
    }
   ],
   "source": [
    "print(arr[-3:-1])"
   ]
  },
  {
   "cell_type": "code",
   "execution_count": 45,
   "metadata": {},
   "outputs": [
    {
     "name": "stdout",
     "output_type": "stream",
     "text": [
      "[2 4]\n"
     ]
    }
   ],
   "source": [
    "import numpy as np\n",
    "arr = np.array([1, 2, 3, 4, 5, 6, 7])\n",
    "\n",
    "print(arr[1:5:2])"
   ]
  },
  {
   "cell_type": "code",
   "execution_count": 46,
   "metadata": {},
   "outputs": [
    {
     "name": "stdout",
     "output_type": "stream",
     "text": [
      "int32\n"
     ]
    }
   ],
   "source": [
    "import numpy as np\n",
    "arr = np.array([1, 2, 3, 4])\n",
    "\n",
    "print(arr.dtype)"
   ]
  },
  {
   "cell_type": "code",
   "execution_count": 47,
   "metadata": {},
   "outputs": [
    {
     "name": "stdout",
     "output_type": "stream",
     "text": [
      "<U6\n"
     ]
    }
   ],
   "source": [
    "import numpy as np\n",
    "arr = np.array(['apple', 'banana', 'cherry'])\n",
    "\n",
    "print(arr.dtype)"
   ]
  },
  {
   "cell_type": "code",
   "execution_count": 2,
   "metadata": {},
   "outputs": [
    {
     "name": "stdout",
     "output_type": "stream",
     "text": [
      "    cars  passings\n",
      "0    BMW         3\n",
      "1  Volvo         7\n",
      "2   Ford         2\n"
     ]
    }
   ],
   "source": [
    "import pandas as pd\n",
    "mydataset = {\n",
    "  'cars': [\"BMW\", \"Volvo\", \"Ford\"],\n",
    "  'passings': [3, 7, 2]\n",
    "}\n",
    "myvar = pd.DataFrame(mydataset)\n",
    "print(myvar)"
   ]
  },
  {
   "cell_type": "code",
   "execution_count": 3,
   "metadata": {},
   "outputs": [
    {
     "name": "stdout",
     "output_type": "stream",
     "text": [
      "0    1\n",
      "1    7\n",
      "2    2\n",
      "dtype: int64\n"
     ]
    }
   ],
   "source": [
    "#Pandas Series\n",
    "import pandas as pd\n",
    "a = [1, 7, 2]\n",
    "myvar = pd.Series(a)\n",
    "print(myvar)"
   ]
  },
  {
   "cell_type": "code",
   "execution_count": 4,
   "metadata": {},
   "outputs": [
    {
     "name": "stdout",
     "output_type": "stream",
     "text": [
      "1\n"
     ]
    }
   ],
   "source": [
    "print(myvar[0])"
   ]
  },
  {
   "cell_type": "code",
   "execution_count": 5,
   "metadata": {},
   "outputs": [
    {
     "name": "stdout",
     "output_type": "stream",
     "text": [
      "x    1\n",
      "y    7\n",
      "z    2\n",
      "dtype: int64\n"
     ]
    }
   ],
   "source": [
    "#series(1-d)\n",
    "a = [1, 7, 2]\n",
    "myvar = pd.Series(a, index = [\"x\", \"y\", \"z\"])\n",
    "print(myvar)\n"
   ]
  },
  {
   "cell_type": "code",
   "execution_count": 9,
   "metadata": {},
   "outputs": [
    {
     "name": "stdout",
     "output_type": "stream",
     "text": [
      "     c   d\n",
      "0  420  50\n",
      "1  380  40\n",
      "2  390  45\n"
     ]
    }
   ],
   "source": [
    "#DataFrames(multidimension)\n",
    "import pandas as pd\n",
    "data = {\n",
    "  \"c\": [420, 380, 390],\n",
    "  \"d\": [50, 40, 45]\n",
    "}\n",
    "\n",
    "myvar = pd.DataFrame(data)\n",
    "print(myvar)\n",
    "\n"
   ]
  },
  {
   "cell_type": "code",
   "execution_count": 10,
   "metadata": {},
   "outputs": [
    {
     "name": "stdout",
     "output_type": "stream",
     "text": [
      "   calories  duration\n",
      "0       420        50\n",
      "1       380        40\n",
      "2       390        45\n"
     ]
    }
   ],
   "source": [
    "import pandas as pd\n",
    "data = {\n",
    "  \"calories\": [420, 380, 390],\n",
    "  \"duration\": [50, 40, 45]\n",
    "}\n",
    "\n",
    "#load data into a DataFrame object:\n",
    "df = pd.DataFrame(data)\n",
    "\n",
    "print(df) "
   ]
  },
  {
   "cell_type": "code",
   "execution_count": 11,
   "metadata": {},
   "outputs": [
    {
     "name": "stdout",
     "output_type": "stream",
     "text": [
      "calories    420\n",
      "duration     50\n",
      "Name: 0, dtype: int64\n"
     ]
    }
   ],
   "source": [
    "print(df.loc[0])"
   ]
  },
  {
   "cell_type": "code",
   "execution_count": 14,
   "metadata": {},
   "outputs": [
    {
     "name": "stdout",
     "output_type": "stream",
     "text": [
      "      calories  duration\n",
      "day1       420        50\n",
      "day2       380        40\n",
      "day3       390        45\n"
     ]
    }
   ],
   "source": [
    "import pandas as pd\n",
    "\n",
    "data = {\n",
    "  \"calories\": [420, 380, 390],\n",
    "  \"duration\": [50, 40, 45]\n",
    "}\n",
    "\n",
    "df = pd.DataFrame(data, index = [\"day1\", \"day2\", \"day3\"])\n",
    "\n",
    "print(df) \n"
   ]
  },
  {
   "cell_type": "code",
   "execution_count": 15,
   "metadata": {},
   "outputs": [
    {
     "name": "stdout",
     "output_type": "stream",
     "text": [
      "calories    380\n",
      "duration     40\n",
      "Name: day2, dtype: int64\n"
     ]
    }
   ],
   "source": [
    "print(df.loc[\"day2\"])"
   ]
  },
  {
   "cell_type": "code",
   "execution_count": 21,
   "metadata": {},
   "outputs": [
    {
     "data": {
      "text/html": [
       "<div>\n",
       "<style scoped>\n",
       "    .dataframe tbody tr th:only-of-type {\n",
       "        vertical-align: middle;\n",
       "    }\n",
       "\n",
       "    .dataframe tbody tr th {\n",
       "        vertical-align: top;\n",
       "    }\n",
       "\n",
       "    .dataframe thead th {\n",
       "        text-align: right;\n",
       "    }\n",
       "</style>\n",
       "<table border=\"1\" class=\"dataframe\">\n",
       "  <thead>\n",
       "    <tr style=\"text-align: right;\">\n",
       "      <th></th>\n",
       "      <th>name</th>\n",
       "      <th>marks</th>\n",
       "    </tr>\n",
       "  </thead>\n",
       "  <tbody>\n",
       "    <tr>\n",
       "      <th>0</th>\n",
       "      <td>avi</td>\n",
       "      <td>96</td>\n",
       "    </tr>\n",
       "    <tr>\n",
       "      <th>1</th>\n",
       "      <td>pari</td>\n",
       "      <td>100</td>\n",
       "    </tr>\n",
       "    <tr>\n",
       "      <th>2</th>\n",
       "      <td>alisha</td>\n",
       "      <td>34</td>\n",
       "    </tr>\n",
       "    <tr>\n",
       "      <th>3</th>\n",
       "      <td>khesha</td>\n",
       "      <td>100</td>\n",
       "    </tr>\n",
       "  </tbody>\n",
       "</table>\n",
       "</div>"
      ],
      "text/plain": [
       "     name  marks\n",
       "0     avi     96\n",
       "1    pari    100\n",
       "2  alisha     34\n",
       "3  khesha    100"
      ]
     },
     "execution_count": 21,
     "metadata": {},
     "output_type": "execute_result"
    }
   ],
   "source": [
    "import pandas as pd\n",
    "d={'name':['avi','pari','alisha','khesha'],'marks':[96,100,34,100]}\n",
    "pd.DataFrame(d)"
   ]
  },
  {
   "cell_type": "code",
   "execution_count": 26,
   "metadata": {},
   "outputs": [
    {
     "data": {
      "text/plain": [
       "name     pari\n",
       "marks     100\n",
       "dtype: object"
      ]
     },
     "execution_count": 26,
     "metadata": {},
     "output_type": "execute_result"
    }
   ],
   "source": [
    "marks.max()"
   ]
  },
  {
   "cell_type": "code",
   "execution_count": 29,
   "metadata": {},
   "outputs": [
    {
     "data": {
      "text/plain": [
       "marks    34\n",
       "dtype: int64"
      ]
     },
     "execution_count": 29,
     "metadata": {},
     "output_type": "execute_result"
    }
   ],
   "source": [
    "marks.min()"
   ]
  },
  {
   "cell_type": "code",
   "execution_count": null,
   "metadata": {},
   "outputs": [],
   "source": []
  },
  {
   "cell_type": "code",
   "execution_count": 33,
   "metadata": {},
   "outputs": [],
   "source": [
    " \n",
    "from tkinter import *\n",
    "import os\n",
    " \n",
    "# Designing window for registration\n",
    " \n",
    "def register():\n",
    "    global register_screen\n",
    "    register_screen = Toplevel(main_screen)\n",
    "    register_screen.title(\"Register\")\n",
    "    register_screen.geometry(\"300x250\")\n",
    " \n",
    "    global username\n",
    "    global password\n",
    "    global username_entry\n",
    "    global password_entry\n",
    "    username = StringVar()\n",
    "    password = StringVar()\n",
    " \n",
    "    Label(register_screen, text=\"Please enter details below\", bg=\"blue\").pack()\n",
    "    Label(register_screen, text=\"\").pack()\n",
    "    username_lable = Label(register_screen, text=\"Username * \")\n",
    "    username_lable.pack()\n",
    "    username_entry = Entry(register_screen, textvariable=username)\n",
    "    username_entry.pack()\n",
    "    password_lable = Label(register_screen, text=\"Password * \")\n",
    "    password_lable.pack()\n",
    "    password_entry = Entry(register_screen, textvariable=password, show='*')\n",
    "    password_entry.pack()\n",
    "    Label(register_screen, text=\"\").pack()\n",
    "    Button(register_screen, text=\"Register\", width=10, height=1, bg=\"blue\", command = register_user).pack()\n",
    " \n",
    " \n",
    "# Designing window for login \n",
    " \n",
    "def login():\n",
    "    global login_screen\n",
    "    login_screen = Toplevel(main_screen)\n",
    "    login_screen.title(\"Login\")\n",
    "    login_screen.geometry(\"300x250\")\n",
    "    Label(login_screen, text=\"Please enter details below to login\").pack()\n",
    "    Label(login_screen, text=\"\").pack()\n",
    " \n",
    "    global username_verify\n",
    "    global password_verify\n",
    " \n",
    "    username_verify = StringVar()\n",
    "    password_verify = StringVar()\n",
    " \n",
    "    global username_login_entry\n",
    "    global password_login_entry\n",
    " \n",
    "    Label(login_screen, text=\"Username * \").pack()\n",
    "    username_login_entry = Entry(login_screen, textvariable=username_verify)\n",
    "    username_login_entry.pack()\n",
    "    Label(login_screen, text=\"\").pack()\n",
    "    Label(login_screen, text=\"Password * \").pack()\n",
    "    password_login_entry = Entry(login_screen, textvariable=password_verify, show= '*')\n",
    "    password_login_entry.pack()\n",
    "    Label(login_screen, text=\"\").pack()\n",
    "    Button(login_screen, text=\"Login\", width=10, height=1, command = login_verify).pack()\n",
    " \n",
    "# Implementing event on register button\n",
    " \n",
    "def register_user():\n",
    " \n",
    "    username_info = username.get()\n",
    "    password_info = password.get()\n",
    " \n",
    "    file = open(username_info, \"w\")\n",
    "    file.write(username_info + \"\\n\")\n",
    "    file.write(password_info)\n",
    "    file.close()\n",
    " \n",
    "    username_entry.delete(0, END)\n",
    "    password_entry.delete(0, END)\n",
    " \n",
    "    Label(register_screen, text=\"Registration Success\", fg=\"green\", font=(\"calibri\", 11)).pack()\n",
    " \n",
    "# Implementing event on login button \n",
    " \n",
    "def login_verify():\n",
    "    username1 = username_verify.get()\n",
    "    password1 = password_verify.get()\n",
    "    username_login_entry.delete(0, END)\n",
    "    password_login_entry.delete(0, END)\n",
    " \n",
    "    list_of_files = os.listdir()\n",
    "    if username1 in list_of_files:\n",
    "        file1 = open(username1, \"r\")\n",
    "        verify = file1.read().splitlines()\n",
    "        if password1 in verify:\n",
    "            login_sucess()\n",
    " \n",
    "        else:\n",
    "            password_not_recognised()\n",
    " \n",
    "    else:\n",
    "        user_not_found()\n",
    " \n",
    "# Designing popup for login success\n",
    " \n",
    "def login_sucess():\n",
    "    global login_success_screen\n",
    "    login_success_screen = Toplevel(login_screen)\n",
    "    login_success_screen.title(\"Success\")\n",
    "    login_success_screen.geometry(\"150x100\")\n",
    "    Label(login_success_screen, text=\"Login Success\").pack()\n",
    "    Button(login_success_screen, text=\"OK\", command=delete_login_success).pack()\n",
    " \n",
    "# Designing popup for login invalid password\n",
    " \n",
    "def password_not_recognised():\n",
    "    global password_not_recog_screen\n",
    "    password_not_recog_screen = Toplevel(login_screen)\n",
    "    password_not_recog_screen.title(\"Success\")\n",
    "    password_not_recog_screen.geometry(\"150x100\")\n",
    "    Label(password_not_recog_screen, text=\"Invalid Password \").pack()\n",
    "    Button(password_not_recog_screen, text=\"OK\", command=delete_password_not_recognised).pack()\n",
    " \n",
    "# Designing popup for user not found\n",
    " \n",
    "def user_not_found():\n",
    "    global user_not_found_screen\n",
    "    user_not_found_screen = Toplevel(login_screen)\n",
    "    user_not_found_screen.title(\"Success\")\n",
    "    user_not_found_screen.geometry(\"150x100\")\n",
    "    Label(user_not_found_screen, text=\"User Not Found\").pack()\n",
    "    Button(user_not_found_screen, text=\"OK\", command=delete_user_not_found_screen).pack()\n",
    " \n",
    "# Deleting popups\n",
    " \n",
    "def delete_login_success():\n",
    "    login_success_screen.destroy()\n",
    " \n",
    " \n",
    "def delete_password_not_recognised():\n",
    "    password_not_recog_screen.destroy()\n",
    " \n",
    " \n",
    "def delete_user_not_found_screen():\n",
    "    user_not_found_screen.destroy()\n",
    " \n",
    " \n",
    "# Designing Main(first) window\n",
    " \n",
    "def main_account_screen():\n",
    "    global main_screen\n",
    "    main_screen = Tk()\n",
    "    main_screen.geometry(\"300x250\")\n",
    "    main_screen.title(\"Account Login\")\n",
    "    Label(text=\"Select Your Choice\", bg=\"blue\", width=\"300\", height=\"2\", font=(\"Calibri\", 13)).pack()\n",
    "    Label(text=\"\").pack()\n",
    "    Button(text=\"Login\", height=\"2\", width=\"30\", command = login).pack()\n",
    "    Label(text=\"\").pack()\n",
    "    Button(text=\"Register\", height=\"2\", width=\"30\", command=register).pack()\n",
    " \n",
    "    main_screen.mainloop()\n",
    " \n",
    " \n",
    "main_account_screen()"
   ]
  },
  {
   "cell_type": "code",
   "execution_count": null,
   "metadata": {},
   "outputs": [],
   "source": [
    "from tkinter import *\n",
    "\n",
    "MyRootDialog=Tk()\n",
    "#Set Tkinter Size And Location\n",
    "MyRootDialog.geometry(\"400x250+100+100\")\n",
    "\n",
    "\n",
    "# Define Function for get Value\n",
    "def Get_MyInputValue():\n",
    "     getresult = MyEntryBox.get()   \n",
    "     getresult1 = MyEntryBox1.get()\n",
    "     rows=[]\n",
    "     T=[[\"user\",\"pass\"],[getresult,getresult1]]     \n",
    "     for i in range(2):\n",
    "        cols = []\n",
    "        for j in range(2):\n",
    "            e = Entry(relief=GROOVE)\n",
    "            e.grid(row=i, column=j, sticky=NSEW)\n",
    "            e.insert(END, '%s' % (T[i][j]))\n",
    "            cols.append(e)\n",
    "        rows.append(cols)\n",
    "\n",
    "# Create Tkinter Entry Widget\n",
    "MyEntryBox = Entry(MyRootDialog, width=10)\n",
    "MyEntryBox.place(x=80, y=90)\n",
    "MyEntryBox1 = Entry(MyRootDialog, width=10)\n",
    "MyEntryBox1.place(x=100, y=110)\n",
    "email = Label(MyRootDialog, text = \"Email\").place(x = 30, y = 90)    \n",
    "password = Label(MyRootDialog, text = \"Password\").place(x = 30, y = 110)\n",
    "#command will call the defined function\n",
    "MyTkButton = Button(MyRootDialog, height=1, width=10, text=\"Get text\", command= Get_MyInputValue)\n",
    "MyTkButton.place(x=30, y=230)\n",
    "\n",
    "mainloop()\n",
    "\n",
    "#######################################login#######################################\n",
    "\n",
    "import pandas as pd\n",
    "  \n",
    "#making data frame from csv file\n",
    "data=pd.read_csv(\"employee.csv\")\n",
    "  \n",
    "#sorting data on condition\n",
    "data.sort_values([\"salary\"], axis=0,\n",
    "                 ascending=False, inplace=True)\n",
    "#display salary>40000\n",
    "df=data[(data['salary']>40000)]\n",
    "print(df[['id','name']])\n",
    "#dropna drops the rows with null values\n",
    "#notna returns boolean with ans of the null\n",
    "#plot scatter \n",
    "#display\n",
    "data"
   ]
  },
  {
   "cell_type": "code",
   "execution_count": 1,
   "metadata": {},
   "outputs": [],
   "source": [
    "import tkinter\n",
    "from tkinter import *\n",
    "MyRootDialog=Tk()\n",
    "#Set Tkinter Size And Location\n",
    "MyRootDialog.geometry(\"400x250+100+100\")\n",
    "\n",
    "\n",
    "# Define Function for get Value\n",
    "def Get_MyInputValue():\n",
    "     getresult = MyEntryBox.get()   \n",
    "     getresult1 = MyEntryBox1.get()\n",
    "     rows=[]\n",
    "     T=[[\"user\",\"pass\"],[getresult,getresult1]]     \n",
    "     for i in range(2):\n",
    "        cols = []\n",
    "        for j in range(2):\n",
    "            e = Entry(relief=GROOVE)\n",
    "            e.grid(row=i, column=j, sticky=NSEW)\n",
    "            e.insert(END, '%s' % (T[i][j]))\n",
    "            cols.append(e)\n",
    "        rows.append(cols)\n",
    "\n",
    "# Create Tkinter Entry Widget\n",
    "MyEntryBox = Entry(MyRootDialog, width=10)\n",
    "MyEntryBox.place(x=80, y=90)\n",
    "MyEntryBox1 = Entry(MyRootDialog, width=10)\n",
    "MyEntryBox1.place(x=100, y=110)\n",
    "email = Label(MyRootDialog, text = \"Email\").place(x = 30, y = 90)    \n",
    "password = Label(MyRootDialog, text = \"Password\").place(x = 30, y = 110)\n",
    "#command will call the defined function\n",
    "MyTkButton = Button(MyRootDialog, height=1, width=10, text=\"Get text\", command= Get_MyInputValue)\n",
    "MyTkButton.place(x=30, y=230)\n",
    "\n",
    "mainloop()"
   ]
  },
  {
   "cell_type": "code",
   "execution_count": null,
   "metadata": {},
   "outputs": [],
   "source": []
  }
 ],
 "metadata": {
  "kernelspec": {
   "display_name": "Python 3",
   "language": "python",
   "name": "python3"
  },
  "language_info": {
   "codemirror_mode": {
    "name": "ipython",
    "version": 3
   },
   "file_extension": ".py",
   "mimetype": "text/x-python",
   "name": "python",
   "nbconvert_exporter": "python",
   "pygments_lexer": "ipython3",
   "version": "3.7.6"
  }
 },
 "nbformat": 4,
 "nbformat_minor": 4
}
