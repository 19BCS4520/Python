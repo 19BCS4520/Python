{
 "cells": [
  {
   "cell_type": "code",
   "execution_count": null,
   "metadata": {},
   "outputs": [],
   "source": [
    "month=input(\"enter the month\")\n",
    "day=input(\"enter the day\")\n",
    "if month in ('january','february','march'):\n",
    "    season='winter'\n",
    "elif month in ('april','may','june'):\n",
    "    season='spring'\n",
    "elif month in('july','agust','september'):\n",
    "    season='summer'\n",
    "else:\n",
    "    season='autum'\n",
    "if(month=='march') and (day>15):\n",
    "    season='Spring'\n",
    "elif(month=='june') and (day>15):\n",
    "    season='summer'\n",
    "elif(month=='september') and (day>15):\n",
    "    season='autumn'\n",
    "elif(month=='december') and (day>20):\n",
    "    season='winter'\n",
    "print(\"season is=\",season)"
   ]
  },
  {
   "cell_type": "code",
   "execution_count": 17,
   "metadata": {},
   "outputs": [
    {
     "name": "stdout",
     "output_type": "stream",
     "text": [
      "enter the birthday date=10\n",
      "enter the birthday month=may\n",
      "your astrological sign is = taurus\n"
     ]
    }
   ],
   "source": [
    "d=int(input(\"enter the birthday date=\"))\n",
    "month=input(\"enter the birthday month=\")\n",
    "if month=='january':\n",
    "    s='capricorn' if (d<15) else 'aquarius'\n",
    "elif month=='february':\n",
    "    s='aquarius' if (d<15) else 'pices'\n",
    "elif month=='march':\n",
    "    s='pices' if (d<15) else 'aries'\n",
    "elif month=='april':\n",
    "    s='aries' if (d<15) else 'taurus'\n",
    "elif month=='may':\n",
    "    s='taurus' if (d<15) else 'gemini'\n",
    "elif month=='june':\n",
    "    s='gemini' if (d<15) else 'cancer'\n",
    "elif month=='july':\n",
    "    s='cancer' if (d<15) else 'leo'\n",
    "elif month=='august':\n",
    "    s='leo' if (d<15) else 'vigro'\n",
    "elif month=='september':\n",
    "    s='vigro' if (d<15) else 'libra'\n",
    "elif month=='october':\n",
    "    s='libra' if (d<15) else 'scropio'\n",
    "elif month=='november':\n",
    "    s='scropio' if (d<15) else 'sagittarius'\n",
    "elif month=='december':\n",
    "    s='sagttarius' if (d<15) else 'capricorn'\n",
    "print(\"your astrological sign is =\",s)\n"
   ]
  },
  {
   "cell_type": "code",
   "execution_count": 20,
   "metadata": {},
   "outputs": [
    {
     "name": "stdout",
     "output_type": "stream",
     "text": [
      "enter your birth year= 2001\n",
      "your Zodiac sign : Snake\n"
     ]
    }
   ],
   "source": [
    "y=int(input(\"enter your birth year= \"))\n",
    "if (y - 2000) % 12 == 0:\n",
    "    sign = 'Dragon'\n",
    "elif (y - 2000) % 12 == 1:\n",
    "    s = 'Snake'\n",
    "elif (y - 2000) % 12 == 2:\n",
    "    s = 'Horse'\n",
    "elif (y - 2000) % 12 == 3:\n",
    "    s = 'sheep'\n",
    "elif (y - 2000) % 12 == 4:\n",
    "    s = 'Monkey'\n",
    "elif (y - 2000) % 12 == 5:\n",
    "    s = 'Rooster'\n",
    "elif (y - 2000) % 12 == 6:\n",
    "    s = 'Dog'\n",
    "elif (y - 2000) % 12 == 7:\n",
    "    s = 'Pig'\n",
    "elif (y - 2000) % 12 == 8:\n",
    "    s = 'Rat'\n",
    "elif (y - 2000) % 12 == 9:\n",
    "    s = 'Ox'\n",
    "elif (y - 2000) % 12 == 10:\n",
    "    s = 'Tiger'\n",
    "else:\n",
    "    s = 'Hare'\n",
    "\n",
    "print(\"your Zodiac sign :\",s)"
   ]
  },
  {
   "cell_type": "code",
   "execution_count": null,
   "metadata": {},
   "outputs": [],
   "source": [
    "y=int(input(\"enter the year =\"))\n",
    "\n",
    "m=int(input(\"enter the month =\"))\n",
    "\n",
    "d=int(input(\"enter the day =\"))\n",
    "if ((y % 4 == 0) and (y % 100!= 0)) or (y%400 == 0):\n",
    "\n",
    "    if m==2:\n",
    "\n",
    "        d1=29\n",
    "\n",
    "    elif m==1 or m==3 or m==5 or m==7 or m==8 or m==10 or m==12:\n",
    "\n",
    "        d1=31\n",
    "\n",
    "    else :\n",
    "\n",
    "        d1=30\n",
    "\n",
    "else:\n",
    "\n",
    "    if m==2:\n",
    "\n",
    "        d1=28\n",
    "\n",
    "    elif m==1 or m==3 or m==5 or m==7 or m==8 or m==10 or m==12:\n",
    "\n",
    "        d1=31\n",
    "\n",
    "    else :\n",
    "\n",
    "        d1=30\n",
    "\n",
    "if d==31 and m==12 :\n",
    "\n",
    "    d=1\n",
    "\n",
    "    m=1\n",
    "\n",
    "    y=y+1   \n",
    "\n",
    "elif d1-d==0 :\n",
    "\n",
    "    m=m+1\n",
    "\n",
    "    d=1\n",
    "\n",
    "else:\n",
    "\n",
    "    d=d+1\n",
    "\n",
    "    \n",
    "\n",
    "print(\"The next day is \",d,\"/\",m,\"/\",y)"
   ]
  },
  {
   "cell_type": "code",
   "execution_count": null,
   "metadata": {},
   "outputs": [],
   "source": []
  }
 ],
 "metadata": {
  "kernelspec": {
   "display_name": "Python 3",
   "language": "python",
   "name": "python3"
  },
  "language_info": {
   "codemirror_mode": {
    "name": "ipython",
    "version": 3
   },
   "file_extension": ".py",
   "mimetype": "text/x-python",
   "name": "python",
   "nbconvert_exporter": "python",
   "pygments_lexer": "ipython3",
   "version": "3.7.6"
  }
 },
 "nbformat": 4,
 "nbformat_minor": 4
}
