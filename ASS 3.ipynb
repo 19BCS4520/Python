{
 "cells": [
  {
   "cell_type": "raw",
   "metadata": {},
   "source": [
    "#Aditi has used a text editing software to type some text. After saving the article as WORDS.TXT, she realised that she has wrongly typed alphabet J in place of alphabet I everywhere in the article.\n",
    "Write a function definition for JTOI() in Python that would display the corrected version of entire content of the file WORDS.TXT with all the alphabets \"J\" to be displayed as an alphabet \"I\" on screen.\n",
    "Note: Assuming that WORD.TXT does not contain any J alphabet otherwise.\n",
    "Example:\n",
    "If Aditi has stored the following content in the file WORDS.TXT:\n",
    "WELL, THJS JS A WORD BY JTSELF. YOU COULD STRETCH THJS TO BE A SENTENCE\n",
    "The function JTOI() should display the following content:\n",
    "WELL, THIS IS A WORD BY ITSELF. YOU COULD STRETCH THIS TO BE A SENTENCE"
   ]
  },
  {
   "cell_type": "code",
   "execution_count": 59,
   "metadata": {},
   "outputs": [
    {
     "name": "stdout",
     "output_type": "stream",
     "text": [
      "all files have been generated\n"
     ]
    }
   ],
   "source": [
    "file = open(\"E:/words.txt\" ,\"w\")\n",
    "file.write(\"WELL, THJS JS A WORD BY JTSELF. YOU COULD STRETCH THJS TO BE A SENTENCE\")\n",
    "print(\"all files have been generated\")\n",
    "file.close()"
   ]
  },
  {
   "cell_type": "code",
   "execution_count": 58,
   "metadata": {},
   "outputs": [
    {
     "name": "stdout",
     "output_type": "stream",
     "text": [
      "WELL, THIS IS A WORD BY ITSELF. YOU COULD STRETCH THIS TO BE A SENTENCE"
     ]
    }
   ],
   "source": [
    "def JTOI():\n",
    "    file = open(\"E:/words.txt\",\"r\")\n",
    "    data = file.read()\n",
    "    for letter in data:\n",
    "        if letter == 'J':\n",
    "            print(\"I\",end=\"\")\n",
    "        else:\n",
    "            print(letter,end=\"\")\n",
    "\n",
    "    file.close()\n",
    "\n",
    "JTOI()"
   ]
  },
  {
   "cell_type": "raw",
   "metadata": {},
   "source": [
    "Write a function AMCount() in Python, which should read each character of a text file STORY.TXT, should count and display the occurance of alphabets A and M (including small cases a and m too).\n",
    "\n",
    "For Example:\n",
    "\n",
    "If the file content is as follows:\n",
    "\n",
    "Updated information\n",
    "\n",
    "As simplified by official websites.\n",
    "\n",
    "The EUCount() function should display the output as:\n",
    "\n",
    "A or a:4\n",
    "\n",
    "M or m :2"
   ]
  },
  {
   "cell_type": "code",
   "execution_count": 25,
   "metadata": {},
   "outputs": [
    {
     "name": "stdout",
     "output_type": "stream",
     "text": [
      "all files\n"
     ]
    }
   ],
   "source": [
    "file=open(\"E:/notes.txt\",\"w\")\n",
    "file.write(\"I am Parikshit sharma\")\n",
    "print(\"all files\")\n",
    "file.close()"
   ]
  },
  {
   "cell_type": "code",
   "execution_count": 26,
   "metadata": {},
   "outputs": [
    {
     "name": "stdout",
     "output_type": "stream",
     "text": [
      "A or a: 4\n",
      "M or m: 2\n"
     ]
    }
   ],
   "source": [
    "def AMcount():\n",
    "    file = open('E:/notes.txt','r')\n",
    "    data = file.read()\n",
    "    counta=0\n",
    "    countm=0\n",
    "    for letter in data:\n",
    "        if letter == 'A' or letter =='a':\n",
    "            counta += 1\n",
    "        elif letter == 'M' or letter =='m':\n",
    "            countm += 1\n",
    "\n",
    "    file.close()\n",
    "    print('A or a:',counta)\n",
    "    print('M or m:',countm)\n",
    "\n",
    "AMcount()\n"
   ]
  },
  {
   "cell_type": "raw",
   "metadata": {},
   "source": [
    "# Create a data frame using list and also elaborate categorical data in Panda."
   ]
  },
  {
   "cell_type": "code",
   "execution_count": 1,
   "metadata": {},
   "outputs": [
    {
     "data": {
      "text/html": [
       "<div>\n",
       "<style scoped>\n",
       "    .dataframe tbody tr th:only-of-type {\n",
       "        vertical-align: middle;\n",
       "    }\n",
       "\n",
       "    .dataframe tbody tr th {\n",
       "        vertical-align: top;\n",
       "    }\n",
       "\n",
       "    .dataframe thead th {\n",
       "        text-align: right;\n",
       "    }\n",
       "</style>\n",
       "<table border=\"1\" class=\"dataframe\">\n",
       "  <thead>\n",
       "    <tr style=\"text-align: right;\">\n",
       "      <th></th>\n",
       "      <th>0</th>\n",
       "    </tr>\n",
       "  </thead>\n",
       "  <tbody>\n",
       "    <tr>\n",
       "      <th>0</th>\n",
       "      <td>10</td>\n",
       "    </tr>\n",
       "    <tr>\n",
       "      <th>1</th>\n",
       "      <td>20</td>\n",
       "    </tr>\n",
       "    <tr>\n",
       "      <th>2</th>\n",
       "      <td>30</td>\n",
       "    </tr>\n",
       "    <tr>\n",
       "      <th>3</th>\n",
       "      <td>40</td>\n",
       "    </tr>\n",
       "  </tbody>\n",
       "</table>\n",
       "</div>"
      ],
      "text/plain": [
       "    0\n",
       "0  10\n",
       "1  20\n",
       "2  30\n",
       "3  40"
      ]
     },
     "execution_count": 1,
     "metadata": {},
     "output_type": "execute_result"
    }
   ],
   "source": [
    "import pandas as pd\n",
    "import numpy as np\n",
    "#simple list to D\n",
    "li=[10,20,30,40]\n",
    "d=pd.DataFrame(li)\n",
    "d"
   ]
  },
  {
   "cell_type": "code",
   "execution_count": 5,
   "metadata": {},
   "outputs": [
    {
     "data": {
      "text/html": [
       "<div>\n",
       "<style scoped>\n",
       "    .dataframe tbody tr th:only-of-type {\n",
       "        vertical-align: middle;\n",
       "    }\n",
       "\n",
       "    .dataframe tbody tr th {\n",
       "        vertical-align: top;\n",
       "    }\n",
       "\n",
       "    .dataframe thead th {\n",
       "        text-align: right;\n",
       "    }\n",
       "</style>\n",
       "<table border=\"1\" class=\"dataframe\">\n",
       "  <thead>\n",
       "    <tr style=\"text-align: right;\">\n",
       "      <th></th>\n",
       "      <th>a</th>\n",
       "      <th>b</th>\n",
       "      <th>c</th>\n",
       "      <th>d</th>\n",
       "    </tr>\n",
       "  </thead>\n",
       "  <tbody>\n",
       "    <tr>\n",
       "      <th>0</th>\n",
       "      <td>10</td>\n",
       "      <td>20</td>\n",
       "      <td>30</td>\n",
       "      <td>40</td>\n",
       "    </tr>\n",
       "    <tr>\n",
       "      <th>1</th>\n",
       "      <td>10</td>\n",
       "      <td>20</td>\n",
       "      <td>30</td>\n",
       "      <td>40</td>\n",
       "    </tr>\n",
       "    <tr>\n",
       "      <th>2</th>\n",
       "      <td>10</td>\n",
       "      <td>20</td>\n",
       "      <td>30</td>\n",
       "      <td>40</td>\n",
       "    </tr>\n",
       "  </tbody>\n",
       "</table>\n",
       "</div>"
      ],
      "text/plain": [
       "    a   b   c   d\n",
       "0  10  20  30  40\n",
       "1  10  20  30  40\n",
       "2  10  20  30  40"
      ]
     },
     "execution_count": 5,
     "metadata": {},
     "output_type": "execute_result"
    }
   ],
   "source": [
    "#list of list to Dataframe\n",
    "li=[[10,20,30,40],[10,20,30,40],[10,20,30,40]]\n",
    "d=pd.DataFrame(li)\n",
    "d.columns=['a','b','c','d']\n",
    "d"
   ]
  },
  {
   "cell_type": "code",
   "execution_count": 9,
   "metadata": {},
   "outputs": [
    {
     "data": {
      "text/html": [
       "<div>\n",
       "<style scoped>\n",
       "    .dataframe tbody tr th:only-of-type {\n",
       "        vertical-align: middle;\n",
       "    }\n",
       "\n",
       "    .dataframe tbody tr th {\n",
       "        vertical-align: top;\n",
       "    }\n",
       "\n",
       "    .dataframe thead th {\n",
       "        text-align: right;\n",
       "    }\n",
       "</style>\n",
       "<table border=\"1\" class=\"dataframe\">\n",
       "  <thead>\n",
       "    <tr style=\"text-align: right;\">\n",
       "      <th></th>\n",
       "      <th>aa</th>\n",
       "      <th>bb</th>\n",
       "    </tr>\n",
       "  </thead>\n",
       "  <tbody>\n",
       "    <tr>\n",
       "      <th>0</th>\n",
       "      <td>33</td>\n",
       "      <td>44</td>\n",
       "    </tr>\n",
       "    <tr>\n",
       "      <th>1</th>\n",
       "      <td>93</td>\n",
       "      <td>441</td>\n",
       "    </tr>\n",
       "    <tr>\n",
       "      <th>2</th>\n",
       "      <td>3</td>\n",
       "      <td>4</td>\n",
       "    </tr>\n",
       "  </tbody>\n",
       "</table>\n",
       "</div>"
      ],
      "text/plain": [
       "   aa   bb\n",
       "0  33   44\n",
       "1  93  441\n",
       "2   3    4"
      ]
     },
     "execution_count": 9,
     "metadata": {},
     "output_type": "execute_result"
    }
   ],
   "source": [
    "#list of the dict to DataFrame\n",
    "li=[{'aa':33,'bb':44},{'aa':93,'bb':441},{'aa':3,'bb':4}]\n",
    "d=pd.DataFrame(li)\n",
    "d"
   ]
  },
  {
   "cell_type": "code",
   "execution_count": 11,
   "metadata": {},
   "outputs": [
    {
     "data": {
      "text/html": [
       "<div>\n",
       "<style scoped>\n",
       "    .dataframe tbody tr th:only-of-type {\n",
       "        vertical-align: middle;\n",
       "    }\n",
       "\n",
       "    .dataframe tbody tr th {\n",
       "        vertical-align: top;\n",
       "    }\n",
       "\n",
       "    .dataframe thead th {\n",
       "        text-align: right;\n",
       "    }\n",
       "</style>\n",
       "<table border=\"1\" class=\"dataframe\">\n",
       "  <thead>\n",
       "    <tr style=\"text-align: right;\">\n",
       "      <th></th>\n",
       "      <th>0</th>\n",
       "      <th>1</th>\n",
       "      <th>2</th>\n",
       "    </tr>\n",
       "  </thead>\n",
       "  <tbody>\n",
       "    <tr>\n",
       "      <th>0</th>\n",
       "      <td>2</td>\n",
       "      <td>aa</td>\n",
       "      <td>55</td>\n",
       "    </tr>\n",
       "    <tr>\n",
       "      <th>1</th>\n",
       "      <td>22</td>\n",
       "      <td>gg</td>\n",
       "      <td>56</td>\n",
       "    </tr>\n",
       "    <tr>\n",
       "      <th>2</th>\n",
       "      <td>45</td>\n",
       "      <td>pp</td>\n",
       "      <td>67</td>\n",
       "    </tr>\n",
       "  </tbody>\n",
       "</table>\n",
       "</div>"
      ],
      "text/plain": [
       "    0   1   2\n",
       "0   2  aa  55\n",
       "1  22  gg  56\n",
       "2  45  pp  67"
      ]
     },
     "execution_count": 11,
     "metadata": {},
     "output_type": "execute_result"
    }
   ],
   "source": [
    "#list of the tuple to DataFrame\n",
    "li=[(2,'aa',55),(22,'gg',56),(45,'pp',67)]\n",
    "d=pd.DataFrame(li)\n",
    "d"
   ]
  },
  {
   "cell_type": "code",
   "execution_count": 16,
   "metadata": {},
   "outputs": [
    {
     "name": "stdout",
     "output_type": "stream",
     "text": [
      "df1 : \n",
      "    col1  col2\n",
      "0    10    30\n",
      "1    20    40\n",
      "2    40    50\n",
      "3    50    60\n",
      "\n",
      "\n",
      "df1 type :\n",
      " col1    int64\n",
      "col2    int64\n",
      "dtype: object\n"
     ]
    }
   ],
   "source": [
    "import numpy as np\n",
    "import pandas as pd\n",
    "data = {'col1': [10, 20, 40, 50], 'col2': [30, 40, 50, 60]}\n",
    "df1 = pd.DataFrame(data = data)\n",
    "print (\"df1 : \\n\", df1)\n",
    "print(\"\\n\\ndf1 type :\\n\", df1.dtypes)"
   ]
  },
  {
   "cell_type": "code",
   "execution_count": 19,
   "metadata": {},
   "outputs": [
    {
     "name": "stdout",
     "output_type": "stream",
     "text": [
      "df2 : \n",
      "    X  Y\n",
      "0  1  8\n",
      "1  2  9\n",
      "2  4  7\n",
      "3  5  5\n",
      "\n",
      "\n",
      "df2 type :\n",
      " X    category\n",
      "Y    category\n",
      "dtype: object\n",
      "\n",
      "\n",
      "df2 column 0 :\n",
      " 0    1\n",
      "1    2\n",
      "2    4\n",
      "3    5\n",
      "Name: X, dtype: category\n",
      "Categories (4, object): [1, 2, 4, 5]\n",
      "\n",
      "\n",
      "df2 column 1 :\n",
      " 0    8\n",
      "1    9\n",
      "2    7\n",
      "3    5\n",
      "Name: Y, dtype: category\n",
      "Categories (4, object): [5, 7, 8, 9]\n"
     ]
    }
   ],
   "source": [
    "# Converting dataframe to category\n",
    "df2 = pd.DataFrame({'X': list('1245'), 'Y': list('8975')}, dtype =\"category\")\n",
    "  \n",
    "print (\"df2 : \\n\", df2)\n",
    "print(\"\\n\\ndf2 type :\\n\", df2.dtypes)\n",
    "  \n",
    "print (\"\\n\\ndf2 column 0 :\\n\", df2['X'])\n",
    "print (\"\\n\\ndf2 column 1 :\\n\", df2['Y'])"
   ]
  },
  {
   "cell_type": "code",
   "execution_count": 21,
   "metadata": {},
   "outputs": [
    {
     "name": "stdout",
     "output_type": "stream",
     "text": [
      "\n",
      "\n",
      "df3 : \n",
      "    X  Y\n",
      "0  e  a\n",
      "1  f  e\n",
      "2  g  b\n",
      "3  h  c\n",
      "\n",
      "df3 type :\n",
      " X    object\n",
      "Y    object\n",
      "dtype: object\n",
      "\n",
      "\n",
      "df4 type:\n",
      " X    category\n",
      "Y    category\n",
      "dtype: object\n"
     ]
    }
   ],
   "source": [
    "# Conversion can be done using astype()\n",
    "df3 = pd.DataFrame({'X': list('efgh'), 'Y': list('aebc')})\n",
    "print (\"\\n\\ndf3 : \\n\", df3)\n",
    "print(\"\\ndf3 type :\\n\", df3.dtypes)\n",
    "  \n",
    "df4 = df3.astype('category')\n",
    "print (\"\\n\\ndf4 type:\\n\", df4.dtypes)"
   ]
  },
  {
   "cell_type": "raw",
   "metadata": {},
   "source": [
    "Write a function in Python to count uppercase character in a text file."
   ]
  },
  {
   "cell_type": "code",
   "execution_count": null,
   "metadata": {},
   "outputs": [],
   "source": [
    "upper=0\n",
    "f=open('workfile1.txt','x')\n",
    "\n",
    "f = open(\"workfile1.txt\", \"a\")\n",
    "\n",
    "f.write(\"yes SIR \" )\n",
    "\n",
    "f.write(\"I AM HERE\" )\n",
    "\n",
    "f=open(\"workfile1.txt\", \"r\")\n",
    "\n",
    "string=str(f.read())\n",
    "\n",
    "print(string)\n",
    "\n",
    "for i in range(0,len(string)):\n",
    "\n",
    "     if(string[i]>='A' and string[i]<='Z'):\n",
    "\n",
    "        upper+=1\n",
    "print('Upper case letters are {} in this file ' .format(upper))"
   ]
  },
  {
   "cell_type": "code",
   "execution_count": null,
   "metadata": {},
   "outputs": [
    {
     "name": "stdout",
     "output_type": "stream",
     "text": [
      "Enter distance parameter: \n",
      "1: for Manhattan\n",
      "2: for Euclidean\n",
      ">=3: for Minkowski\n",
      "15\n",
      "Value outside 1-9.\n",
      "\n",
      "Enter distance parameter: \n",
      "1: for Manhattan\n",
      "2: for Euclidean\n",
      ">=3: for Minkowski\n",
      "a\n",
      "Invalid Input, try again\n",
      "\n",
      "Enter distance parameter: \n",
      "1: for Manhattan\n",
      "2: for Euclidean\n",
      ">=3: for Minkowski\n",
      "5\n",
      "Invalid Input, try again\n",
      "\n"
     ]
    }
   ],
   "source": [
    "def get_dist_scale(enteredVal):\n",
    "    \n",
    "    while True:\n",
    "        try:\n",
    "            enteredInt = int(enteredVal)\n",
    "            assert (enteredInt <= int(9)), \"Value greater than 9\"\n",
    "            assert (enteredInt >= int(1)), \"Value less than 1\"\n",
    "            return enteredInt      \n",
    "        except ValueError:\n",
    "            print(\"Invalid Input, try again\\n\")\n",
    "            enteredVal = input(\"Enter distance parameter: \\n1: for Manhattan\\n2: for Euclidean\\n>=3: for Minkowski\\n\")\n",
    "            get_dist_scale(enteredVal)\n",
    "            \n",
    "        except AssertionError:\n",
    "            print(\"Value outside 1-9.\\n\")\n",
    "            enteredVal = input(\"Enter distance parameter: \\n1: for Manhattan\\n2: for Euclidean\\n>=3: for Minkowski\\n\")\n",
    "            get_dist_scale(enteredVal)\n",
    "            \n",
    "enteredVal = input(\"Enter distance parameter: \\n1: for Manhattan\\n2: for Euclidean\\n>=3: for Minkowski\\n\")\n",
    "\n",
    "distanceType = get_dist_scale(enteredVal)"
   ]
  },
  {
   "cell_type": "code",
   "execution_count": null,
   "metadata": {},
   "outputs": [],
   "source": []
  },
  {
   "cell_type": "code",
   "execution_count": null,
   "metadata": {},
   "outputs": [],
   "source": []
  },
  {
   "cell_type": "code",
   "execution_count": null,
   "metadata": {},
   "outputs": [],
   "source": []
  }
 ],
 "metadata": {
  "kernelspec": {
   "display_name": "Python 3",
   "language": "python",
   "name": "python3"
  },
  "language_info": {
   "codemirror_mode": {
    "name": "ipython",
    "version": 3
   },
   "file_extension": ".py",
   "mimetype": "text/x-python",
   "name": "python",
   "nbconvert_exporter": "python",
   "pygments_lexer": "ipython3",
   "version": "3.7.6"
  }
 },
 "nbformat": 4,
 "nbformat_minor": 4
}
