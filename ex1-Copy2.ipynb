{
 "cells": [
  {
   "cell_type": "code",
   "execution_count": 1,
   "metadata": {},
   "outputs": [
    {
     "name": "stdout",
     "output_type": "stream",
     "text": [
      "enter the temp in farenhite67\n",
      "temp in celcius 19.444444444444443 C\n"
     ]
    }
   ],
   "source": [
    "#farenheit to celcius\n",
    "f=float(input(\"enter the temp in farenhite\"))\n",
    "c=(f-32)*5/9\n",
    "print(\"temp in celcius\",c,\"C\")"
   ]
  },
  {
   "cell_type": "code",
   "execution_count": 4,
   "metadata": {},
   "outputs": [
    {
     "name": "stdout",
     "output_type": "stream",
     "text": [
      "enter the radius45\n",
      "area of the circle is:: 6358.500000000001 \n",
      " circumference of circle is:: 282.6\n"
     ]
    }
   ],
   "source": [
    "#area and circumference of the circle\n",
    "r=float(input(\"enter the radius\"))\n",
    "pi=3.14\n",
    "area=pi*r*r\n",
    "cir=2*pi*r\n",
    "print(\"area of the circle is::\",area,\"\\n circumference of circle is::\",cir)\n"
   ]
  },
  {
   "cell_type": "code",
   "execution_count": 6,
   "metadata": {},
   "outputs": [
    {
     "name": "stdout",
     "output_type": "stream",
     "text": [
      "eneter the first number4\n",
      "enter the second number4\n",
      "enter the third number5\n",
      "average of the number 4.333333333333333\n"
     ]
    }
   ],
   "source": [
    "#average of the three number\n",
    "x=int(input(\"eneter the first number\"))\n",
    "y=int(input(\"enter the second number\"))\n",
    "z=int(input(\"enter the third number\"))\n",
    "avg=(x+y+z)/3\n",
    "print(\"average of the number\",avg)"
   ]
  },
  {
   "cell_type": "code",
   "execution_count": 7,
   "metadata": {},
   "outputs": [
    {
     "name": "stdout",
     "output_type": "stream",
     "text": [
      "enter the prinicple amount4\n",
      "enter the rate5\n",
      "enter the time6\n",
      "simple interst 1.2\n",
      "maturity amount 5.2\n"
     ]
    }
   ],
   "source": [
    "#simple interst and maturity amount\n",
    "p=int(input(\"enter the prinicple amount\"))\n",
    "r=int(input(\"enter the rate\"))\n",
    "t=int(input(\"enter the time\"))\n",
    "si=(p*r*t)/100\n",
    "print(\"simple interst\",si)\n",
    "m=si+p\n",
    "print(\"maturity amount\",m)"
   ]
  },
  {
   "cell_type": "code",
   "execution_count": 9,
   "metadata": {},
   "outputs": [
    {
     "name": "stdout",
     "output_type": "stream",
     "text": [
      "eneter the 1st value 7\n",
      "enter the 2nd value4\n",
      "enter the 3rd value8\n",
      "area of the tringle 13.997767679169419\n"
     ]
    }
   ],
   "source": [
    "#area of the triangle\n",
    "a=float(input(\"eneter the 1st value \"))\n",
    "b=float(input(\"enter the 2nd value\"))\n",
    "c=float(input(\"enter the 3rd value\"))\n",
    "s=((a+b+c)/2)\n",
    "area=((s*(s-a)*(s-b)*(s-c))**0.5)\n",
    "print(\"area of the tringle\",area)"
   ]
  },
  {
   "cell_type": "code",
   "execution_count": 1,
   "metadata": {},
   "outputs": [
    {
     "name": "stdout",
     "output_type": "stream",
     "text": [
      "enter number in km/h47\n",
      "velocity is:: 13.066\n"
     ]
    }
   ],
   "source": [
    "#km/h to m/s\n",
    "x=float(input(\"enter number in km/h\"))\n",
    "y=x*0.278\n",
    "print(\"velocity is::\",y)"
   ]
  },
  {
   "cell_type": "code",
   "execution_count": 2,
   "metadata": {},
   "outputs": [
    {
     "name": "stdout",
     "output_type": "stream",
     "text": [
      "enter the intail velocity6\n",
      "enter the acceleration68\n",
      "enter the time45\n",
      "final velocity 3066.0\n"
     ]
    }
   ],
   "source": [
    "#velocity\n",
    "u=float(input(\"enter the intail velocity\"))\n",
    "a=float(input(\"enter the acceleration\"))\n",
    "t=float(input(\"enter the time\"))\n",
    "v=u+(a*t)\n",
    "print(\"final velocity\",v)"
   ]
  },
  {
   "cell_type": "code",
   "execution_count": 3,
   "metadata": {},
   "outputs": [
    {
     "name": "stdout",
     "output_type": "stream",
     "text": [
      "enter the age19\n",
      "you are 599184000 seconds old.\n"
     ]
    }
   ],
   "source": [
    "#seconds in year\n",
    "age=int(input(\"enter the age\"))\n",
    "seconds=age*31536000\n",
    "print(\"you are\",seconds,\"seconds old.\")"
   ]
  },
  {
   "cell_type": "code",
   "execution_count": 7,
   "metadata": {},
   "outputs": [
    {
     "name": "stdout",
     "output_type": "stream",
     "text": [
      "Enter a number: 5\n",
      "5 is Odd\n"
     ]
    }
   ],
   "source": [
    "#odd even program\n",
    "num = int(input(\"Enter a number: \"))\n",
    "if (num % 2) == 0:\n",
    "   print(\"{0} is Even\".format(num))\n",
    "else:\n",
    "   print(\"{0} is Odd\".format(num))"
   ]
  },
  {
   "cell_type": "code",
   "execution_count": null,
   "metadata": {},
   "outputs": [],
   "source": []
  },
  {
   "cell_type": "code",
   "execution_count": null,
   "metadata": {},
   "outputs": [],
   "source": []
  },
  {
   "cell_type": "code",
   "execution_count": null,
   "metadata": {},
   "outputs": [],
   "source": []
  }
 ],
 "metadata": {
  "kernelspec": {
   "display_name": "Python 3",
   "language": "python",
   "name": "python3"
  },
  "language_info": {
   "codemirror_mode": {
    "name": "ipython",
    "version": 3
   },
   "file_extension": ".py",
   "mimetype": "text/x-python",
   "name": "python",
   "nbconvert_exporter": "python",
   "pygments_lexer": "ipython3",
   "version": "3.7.6"
  }
 },
 "nbformat": 4,
 "nbformat_minor": 4
}
