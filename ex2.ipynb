{
 "cells": [
  {
   "cell_type": "code",
   "execution_count": 15,
   "metadata": {},
   "outputs": [
    {
     "name": "stdout",
     "output_type": "stream",
     "text": [
      "enter the value you want to enter 5\n",
      "enter the value1\n",
      "enter the value2\n",
      "enter the value3\n",
      "enter the value4\n",
      "enter the value5\n",
      "15\n"
     ]
    }
   ],
   "source": [
    "#wap to accept n number from the  the user and disply the total sum of the all number\n",
    "number = int(input(\"enter the value you want to enter \"))\n",
    "sum = 0\n",
    "for i in range(1, number+1):\n",
    "    \n",
    "    sum = sum + int(input(\"enter the value\"))\n",
    "\n",
    "print(sum)"
   ]
  },
  {
   "cell_type": "code",
   "execution_count": 16,
   "metadata": {},
   "outputs": [
    {
     "name": "stdout",
     "output_type": "stream",
     "text": [
      "enetre thevalue of n6\n",
      "Fibonacci  0 1 1 2 3 5 "
     ]
    }
   ],
   "source": [
    "#wap to calculate fabinacci series upto n\n",
    "n = int(input(\"enetre thevalue of n\"))\n",
    "a = 0\n",
    "b = 1\n",
    "c= 0\n",
    "count = 1\n",
    "print(\"Fibonacci \", end = \" \")\n",
    "while(count <= n):\n",
    "  print(c, end = \" \")\n",
    "  count = count+1\n",
    "  a = b\n",
    "  b = c\n",
    "  c = a + b"
   ]
  },
  {
   "cell_type": "code",
   "execution_count": 18,
   "metadata": {},
   "outputs": [
    {
     "name": "stdout",
     "output_type": "stream",
     "text": [
      "10\n"
     ]
    }
   ],
   "source": [
    "#keywords- BREAK,CONTINUE &PASS\n",
    "#break-terminate from innermost loop,transfering first statement after the loop\n",
    "x=10\n",
    "while x>5:\n",
    "    print(x)\n",
    "    x=x-1\n",
    "    break"
   ]
  },
  {
   "cell_type": "code",
   "execution_count": 24,
   "metadata": {},
   "outputs": [
    {
     "name": "stdout",
     "output_type": "stream",
     "text": [
      "10\n",
      "9\n",
      "8\n",
      "7\n",
      "6\n",
      "5\n",
      "4\n",
      "3\n",
      "2\n",
      "1\n"
     ]
    }
   ],
   "source": [
    "#continue-jump to the next iteration skipping all statements after continue\n",
    "x=10\n",
    "while x>0:\n",
    "    print(x)\n",
    "    x=x-1\n",
    "    if x==5:\n",
    "        continue\n",
    "        print(\"next\")"
   ]
  },
  {
   "cell_type": "code",
   "execution_count": 27,
   "metadata": {},
   "outputs": [
    {
     "name": "stdout",
     "output_type": "stream",
     "text": [
      "x is not ten\n"
     ]
    }
   ],
   "source": [
    "#PASS- DO NOTHING,IT IS A FILLER\n",
    "x=9\n",
    "if x==10:\n",
    "    pass\n",
    "else:\n",
    "    print(\"x is not ten\")"
   ]
  },
  {
   "cell_type": "code",
   "execution_count": 32,
   "metadata": {},
   "outputs": [],
   "source": [
    "#functions\n",
    "def parik():\n",
    "    return(\"hi parikshit\")\n",
    "    \n",
    "    parik()"
   ]
  },
  {
   "cell_type": "code",
   "execution_count": 36,
   "metadata": {},
   "outputs": [
    {
     "name": "stdout",
     "output_type": "stream",
     "text": [
      "eneter the number2\n"
     ]
    },
    {
     "data": {
      "text/plain": [
       "4"
      ]
     },
     "execution_count": 36,
     "metadata": {},
     "output_type": "execute_result"
    }
   ],
   "source": [
    "def square(n):\n",
    "    return n*n\n",
    "\n",
    "square(int(input(\"enter the number\")))"
   ]
  },
  {
   "cell_type": "code",
   "execution_count": null,
   "metadata": {},
   "outputs": [],
   "source": []
  },
  {
   "cell_type": "code",
   "execution_count": null,
   "metadata": {},
   "outputs": [],
   "source": []
  },
  {
   "cell_type": "code",
   "execution_count": null,
   "metadata": {},
   "outputs": [],
   "source": []
  }
 ],
 "metadata": {
  "kernelspec": {
   "display_name": "Python 3",
   "language": "python",
   "name": "python3"
  },
  "language_info": {
   "codemirror_mode": {
    "name": "ipython",
    "version": 3
   },
   "file_extension": ".py",
   "mimetype": "text/x-python",
   "name": "python",
   "nbconvert_exporter": "python",
   "pygments_lexer": "ipython3",
   "version": "3.7.6"
  }
 },
 "nbformat": 4,
 "nbformat_minor": 4
}
