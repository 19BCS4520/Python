{
 "cells": [
  {
   "cell_type": "raw",
   "metadata": {},
   "source": [
    "#python =scripting language is a wrsapper language intergrates with os functions\n",
    "#built in function= print,type,len,input\n",
    "module function\n",
    "key words\n"
   ]
  },
  {
   "cell_type": "code",
   "execution_count": 1,
   "metadata": {},
   "outputs": [
    {
     "name": "stdout",
     "output_type": "stream",
     "text": [
      "enter the input1\n",
      "23 1\n"
     ]
    }
   ],
   "source": [
    "a=23\n",
    "b=input(\"enter the input\")\n",
    "print(a,b)"
   ]
  },
  {
   "cell_type": "code",
   "execution_count": 2,
   "metadata": {},
   "outputs": [
    {
     "data": {
      "text/plain": [
       "int"
      ]
     },
     "execution_count": 2,
     "metadata": {},
     "output_type": "execute_result"
    }
   ],
   "source": [
    "type(a)"
   ]
  },
  {
   "cell_type": "code",
   "execution_count": 4,
   "metadata": {},
   "outputs": [
    {
     "data": {
      "text/plain": [
       "1"
      ]
     },
     "execution_count": 4,
     "metadata": {},
     "output_type": "execute_result"
    }
   ],
   "source": [
    "len(b)"
   ]
  },
  {
   "cell_type": "code",
   "execution_count": 5,
   "metadata": {},
   "outputs": [
    {
     "data": {
      "text/plain": [
       "str"
      ]
     },
     "execution_count": 5,
     "metadata": {},
     "output_type": "execute_result"
    }
   ],
   "source": [
    "type(b)"
   ]
  },
  {
   "cell_type": "markdown",
   "metadata": {},
   "source": [
    "#inditifier =a name which is used to inditifly the varible,function and class\n",
    "rules\n",
    "it start with A-Z or a-z or_\n",
    "followed with alphabet or digit or_ nothing\n",
    "_12a\n",
    "a123"
   ]
  },
  {
   "cell_type": "code",
   "execution_count": 8,
   "metadata": {},
   "outputs": [
    {
     "data": {
      "text/plain": [
       "23"
      ]
     },
     "execution_count": 8,
     "metadata": {},
     "output_type": "execute_result"
    }
   ],
   "source": [
    "car=23\n",
    "bus=98\n",
    "car"
   ]
  },
  {
   "cell_type": "raw",
   "metadata": {},
   "source": [
    "# not valid inditifer=can not use special charcter in it\n",
    "_@=4\n",
    "q$\n",
    "w23&"
   ]
  },
  {
   "cell_type": "code",
   "execution_count": 11,
   "metadata": {},
   "outputs": [
    {
     "data": {
      "text/plain": [
       "4"
      ]
     },
     "execution_count": 11,
     "metadata": {},
     "output_type": "execute_result"
    }
   ],
   "source": [
    "print=4\n",
    "print\n"
   ]
  },
  {
   "cell_type": "raw",
   "metadata": {},
   "source": [
    "#A varible has L value and R value \n",
    "a=3\n",
    "3 is constant\n",
    "a is varible\n",
    "3=a //lvalue error\n",
    "3=3 //lvalue error\n",
    "a=b\n",
    "b=a"
   ]
  },
  {
   "cell_type": "raw",
   "metadata": {},
   "source": [
    "#keywords= is used to test whether two variables belong to the same object.\n",
    "1 and=A logical operator\n",
    "2 as=To create an alias\n",
    "3assert=For debugging\n",
    "4break=To break out of a loop\n",
    "5class=To define a class\n",
    "6continue=To continue to the next iteration of a loop\n",
    "7def=To define a function\n",
    "8del=to delete an object\n",
    "9 elif=\tUsed in conditional statements, same as else if\n",
    "10 else=\tUsed in conditional statements\n",
    "11 except=\tUsed with exceptions, what to do when an exception occurs\n",
    "12 False=\tBoolean value, result of comparison operations\n",
    "13 finally=\tUsed with exceptions, a block of code that will be executed no matter if there is an exception or not\n",
    "13for=\tTo create a for loop\n",
    "14 from=\tTo import specific parts of a module\n",
    "15global=\tTo declare a global variable\n",
    "16 if=\tTo make a conditional statement\n",
    "17 import=\tTo import a module\n",
    "18 in=\tTo check if a value is present in a list, tuple, etc.\n",
    "19 is=\tTo test if two variables are equal\n",
    "20 lambda=\tTo create an anonymous function\n",
    "21 None=\tRepresents a null value\n",
    "22 nonlocal=\tTo declare a non-local variable\n",
    "23 not=\tA logical operator\n",
    "24 or=\tA logical operator\n",
    "24 pass=\tA null statement, a statement that will do nothing\n",
    "25 raise=\tTo raise an exception\n",
    "26 return=\tTo exit a function and return a value\n",
    "27 True=\tBoolean value, result of comparison operations\n",
    "28 try=\tTo make a try...except statement\n",
    "29 while=To create a while loop\n",
    "31=with\tUsed to simplify exception handling\n",
    "32=yield\tTo end a function, returns a generator\n",
    "33 asyc"
   ]
  },
  {
   "cell_type": "markdown",
   "metadata": {},
   "source": [
    "# lists(mutable=can alter there value)"
   ]
  },
  {
   "cell_type": "raw",
   "metadata": {},
   "source": [
    "#list can be define as oder sequence of the elements which can be string /number/float\n"
   ]
  },
  {
   "cell_type": "code",
   "execution_count": 26,
   "metadata": {},
   "outputs": [],
   "source": [
    "a=['parikshit','avi','khesha','amit']"
   ]
  },
  {
   "cell_type": "code",
   "execution_count": 27,
   "metadata": {},
   "outputs": [],
   "source": [
    "a.insert(2,'vanshika')"
   ]
  },
  {
   "cell_type": "code",
   "execution_count": 29,
   "metadata": {},
   "outputs": [
    {
     "ename": "TypeError",
     "evalue": "'int' object is not callable",
     "output_type": "error",
     "traceback": [
      "\u001b[1;31m---------------------------------------------------------------------------\u001b[0m",
      "\u001b[1;31mTypeError\u001b[0m                                 Traceback (most recent call last)",
      "\u001b[1;32m<ipython-input-29-bca0e2660b9f>\u001b[0m in \u001b[0;36m<module>\u001b[1;34m\u001b[0m\n\u001b[1;32m----> 1\u001b[1;33m \u001b[0mprint\u001b[0m\u001b[1;33m(\u001b[0m\u001b[0ma\u001b[0m\u001b[1;33m)\u001b[0m\u001b[1;33m\u001b[0m\u001b[1;33m\u001b[0m\u001b[0m\n\u001b[0m",
      "\u001b[1;31mTypeError\u001b[0m: 'int' object is not callable"
     ]
    }
   ],
   "source": [
    "print(a)"
   ]
  },
  {
   "cell_type": "code",
   "execution_count": null,
   "metadata": {},
   "outputs": [],
   "source": []
  }
 ],
 "metadata": {
  "kernelspec": {
   "display_name": "Python 3",
   "language": "python",
   "name": "python3"
  },
  "language_info": {
   "codemirror_mode": {
    "name": "ipython",
    "version": 3
   },
   "file_extension": ".py",
   "mimetype": "text/x-python",
   "name": "python",
   "nbconvert_exporter": "python",
   "pygments_lexer": "ipython3",
   "version": "3.7.6"
  }
 },
 "nbformat": 4,
 "nbformat_minor": 4
}
